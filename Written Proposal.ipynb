{
 "cells": [
  {
   "cell_type": "markdown",
   "id": "14f732d0-7a73-4ae3-bdfc-fff3c87ec290",
   "metadata": {},
   "source": [
    "#### Title: Classifying Red Wine Quality - Group 21"
   ]
  },
  {
   "cell_type": "markdown",
   "id": "e0ce3266-dee1-4973-9830-41cad6ee4e9a",
   "metadata": {},
   "source": [
    "#### Introduction"
   ]
  },
  {
   "cell_type": "markdown",
   "id": "f1f6b3fe-8c89-4cf6-b952-9095e8c2585d",
   "metadata": {},
   "source": [
    "\"Vinho Verde'' is a Portuguese wine which has three main variants, of which we will be considering red. In the kaggle dataset we are using from UCI Machine Learning, its quality is affected by 11 different physicochemical variables, such as acidity, chlorides, density, etc.. These 11 variables determine the quality of the wine, on a scale from 0-10. For the purpose of the classification task - for which we will be using the K-nearest neighbors classification algorithm - we will be defining good quality wine as wine with a quality rating over 6.5, and anything below as poor quality. The good quality wines will be assigned 1 and the poor quality wines will be assigned 0. This is done for the purpose of making a binary classifier, which is faster  \n",
    "\n",
    "Our goal is to use our data in order to classify the quality of various red wines at various price points that we have sourced from outside our dataset, ultimately to determine whether or not the differences in price reflect differences in quality. We can rephrase this as a predictive research question: What are the differences in physicochemical quality of various red wines at different price points? \n",
    "\n",
    "- State classification algorithm used\n",
    "- Outline predictors chosen in intro\n",
    "- suggestion: stat_summary() function in ggplot2 to calculate the mean or median quality score for each category and plot it on the histogram\n",
    "- consider revising the research question (It is unclear whether the goal is to classify the quality of red wines based on three predictors or to determine whether price reflects differences in quality"
   ]
  },
  {
   "cell_type": "markdown",
   "id": "351d063c-8b55-40ba-b294-26ad13014c1f",
   "metadata": {},
   "source": [
    "#### Preliminary exploratory data analysis"
   ]
  },
  {
   "cell_type": "code",
   "execution_count": 1,
   "id": "f90830c0-8f91-4c38-a346-62a1ac6e7ef2",
   "metadata": {},
   "outputs": [
    {
     "name": "stderr",
     "output_type": "stream",
     "text": [
      "\n",
      "Attaching package: ‘dplyr’\n",
      "\n",
      "\n",
      "The following objects are masked from ‘package:stats’:\n",
      "\n",
      "    filter, lag\n",
      "\n",
      "\n",
      "The following objects are masked from ‘package:base’:\n",
      "\n",
      "    intersect, setdiff, setequal, union\n",
      "\n",
      "\n",
      "── \u001b[1mAttaching packages\u001b[22m ─────────────────────────────────────── tidyverse 1.3.1 ──\n",
      "\n",
      "\u001b[32m✔\u001b[39m \u001b[34mggplot2\u001b[39m 3.3.6     \u001b[32m✔\u001b[39m \u001b[34mpurrr  \u001b[39m 0.3.4\n",
      "\u001b[32m✔\u001b[39m \u001b[34mtibble \u001b[39m 3.1.7     \u001b[32m✔\u001b[39m \u001b[34mstringr\u001b[39m 1.4.0\n",
      "\u001b[32m✔\u001b[39m \u001b[34mtidyr  \u001b[39m 1.2.0     \u001b[32m✔\u001b[39m \u001b[34mforcats\u001b[39m 0.5.1\n",
      "\u001b[32m✔\u001b[39m \u001b[34mreadr  \u001b[39m 2.1.2     \n",
      "\n",
      "── \u001b[1mConflicts\u001b[22m ────────────────────────────────────────── tidyverse_conflicts() ──\n",
      "\u001b[31m✖\u001b[39m \u001b[34mdplyr\u001b[39m::\u001b[32mfilter()\u001b[39m masks \u001b[34mstats\u001b[39m::filter()\n",
      "\u001b[31m✖\u001b[39m \u001b[34mdplyr\u001b[39m::\u001b[32mlag()\u001b[39m    masks \u001b[34mstats\u001b[39m::lag()\n",
      "\n",
      "── \u001b[1mAttaching packages\u001b[22m ────────────────────────────────────── tidymodels 1.0.0 ──\n",
      "\n",
      "\u001b[32m✔\u001b[39m \u001b[34mbroom       \u001b[39m 1.0.0     \u001b[32m✔\u001b[39m \u001b[34mrsample     \u001b[39m 1.0.0\n",
      "\u001b[32m✔\u001b[39m \u001b[34mdials       \u001b[39m 1.0.0     \u001b[32m✔\u001b[39m \u001b[34mtune        \u001b[39m 1.0.0\n",
      "\u001b[32m✔\u001b[39m \u001b[34minfer       \u001b[39m 1.0.2     \u001b[32m✔\u001b[39m \u001b[34mworkflows   \u001b[39m 1.0.0\n",
      "\u001b[32m✔\u001b[39m \u001b[34mmodeldata   \u001b[39m 1.0.0     \u001b[32m✔\u001b[39m \u001b[34mworkflowsets\u001b[39m 1.0.0\n",
      "\u001b[32m✔\u001b[39m \u001b[34mparsnip     \u001b[39m 1.0.0     \u001b[32m✔\u001b[39m \u001b[34myardstick   \u001b[39m 1.0.0\n",
      "\u001b[32m✔\u001b[39m \u001b[34mrecipes     \u001b[39m 1.0.1     \n",
      "\n",
      "── \u001b[1mConflicts\u001b[22m ───────────────────────────────────────── tidymodels_conflicts() ──\n",
      "\u001b[31m✖\u001b[39m \u001b[34mscales\u001b[39m::\u001b[32mdiscard()\u001b[39m masks \u001b[34mpurrr\u001b[39m::discard()\n",
      "\u001b[31m✖\u001b[39m \u001b[34mdplyr\u001b[39m::\u001b[32mfilter()\u001b[39m   masks \u001b[34mstats\u001b[39m::filter()\n",
      "\u001b[31m✖\u001b[39m \u001b[34mrecipes\u001b[39m::\u001b[32mfixed()\u001b[39m  masks \u001b[34mstringr\u001b[39m::fixed()\n",
      "\u001b[31m✖\u001b[39m \u001b[34mdplyr\u001b[39m::\u001b[32mlag()\u001b[39m      masks \u001b[34mstats\u001b[39m::lag()\n",
      "\u001b[31m✖\u001b[39m \u001b[34myardstick\u001b[39m::\u001b[32mspec()\u001b[39m masks \u001b[34mreadr\u001b[39m::spec()\n",
      "\u001b[31m✖\u001b[39m \u001b[34mrecipes\u001b[39m::\u001b[32mstep()\u001b[39m   masks \u001b[34mstats\u001b[39m::step()\n",
      "\u001b[34m•\u001b[39m Dig deeper into tidy modeling with R at \u001b[32mhttps://www.tmwr.org\u001b[39m\n",
      "\n",
      "\n",
      "Attaching package: ‘gridExtra’\n",
      "\n",
      "\n",
      "The following object is masked from ‘package:dplyr’:\n",
      "\n",
      "    combine\n",
      "\n",
      "\n",
      "Updating HTML index of packages in '.Library'\n",
      "\n",
      "Making 'packages.html' ...\n",
      " done\n",
      "\n"
     ]
    }
   ],
   "source": [
    "library(dplyr)\n",
    "library(tidyverse)\n",
    "library(tidymodels)\n",
    "library(gridExtra)\n",
    "options(repr.matrix.max.rows = 6)\n",
    "install.packages(\"themis\")\n",
    "library(themis)"
   ]
  },
  {
   "cell_type": "code",
   "execution_count": 2,
   "id": "f183b979-2dbc-4f3b-9723-2f840218b3a0",
   "metadata": {},
   "outputs": [
    {
     "name": "stderr",
     "output_type": "stream",
     "text": [
      "\u001b[1mRows: \u001b[22m\u001b[34m1599\u001b[39m \u001b[1mColumns: \u001b[22m\u001b[34m12\u001b[39m\n",
      "\u001b[36m──\u001b[39m \u001b[1mColumn specification\u001b[22m \u001b[36m────────────────────────────────────────────────────────\u001b[39m\n",
      "\u001b[1mDelimiter:\u001b[22m \",\"\n",
      "\u001b[32mdbl\u001b[39m (12): fixed acidity, volatile acidity, citric acid, residual sugar, chlo...\n",
      "\n",
      "\u001b[36mℹ\u001b[39m Use `spec()` to retrieve the full column specification for this data.\n",
      "\u001b[36mℹ\u001b[39m Specify the column types or set `show_col_types = FALSE` to quiet this message.\n"
     ]
    },
    {
     "data": {
      "text/html": [
       "<table class=\"dataframe\">\n",
       "<caption>A tibble: 1599 × 13</caption>\n",
       "<thead>\n",
       "\t<tr><th scope=col>fixed.acidity</th><th scope=col>volatile.acidity</th><th scope=col>citric.acid</th><th scope=col>residual.sugar</th><th scope=col>chlorides</th><th scope=col>free.sulfur.dioxide</th><th scope=col>total.sulfur.dioxide</th><th scope=col>density</th><th scope=col>pH</th><th scope=col>sulphates</th><th scope=col>alcohol</th><th scope=col>quality</th><th scope=col>new_quality</th></tr>\n",
       "\t<tr><th scope=col>&lt;dbl&gt;</th><th scope=col>&lt;dbl&gt;</th><th scope=col>&lt;dbl&gt;</th><th scope=col>&lt;dbl&gt;</th><th scope=col>&lt;dbl&gt;</th><th scope=col>&lt;dbl&gt;</th><th scope=col>&lt;dbl&gt;</th><th scope=col>&lt;dbl&gt;</th><th scope=col>&lt;dbl&gt;</th><th scope=col>&lt;dbl&gt;</th><th scope=col>&lt;dbl&gt;</th><th scope=col>&lt;dbl&gt;</th><th scope=col>&lt;fct&gt;</th></tr>\n",
       "</thead>\n",
       "<tbody>\n",
       "\t<tr><td>7.4</td><td>0.70</td><td>0.00</td><td>1.9</td><td>0.076</td><td>11</td><td>34</td><td>0.9978</td><td>3.51</td><td>0.56</td><td>9.4</td><td>5</td><td>0</td></tr>\n",
       "\t<tr><td>7.8</td><td>0.88</td><td>0.00</td><td>2.6</td><td>0.098</td><td>25</td><td>67</td><td>0.9968</td><td>3.20</td><td>0.68</td><td>9.8</td><td>5</td><td>0</td></tr>\n",
       "\t<tr><td>7.8</td><td>0.76</td><td>0.04</td><td>2.3</td><td>0.092</td><td>15</td><td>54</td><td>0.9970</td><td>3.26</td><td>0.65</td><td>9.8</td><td>5</td><td>0</td></tr>\n",
       "\t<tr><td>⋮</td><td>⋮</td><td>⋮</td><td>⋮</td><td>⋮</td><td>⋮</td><td>⋮</td><td>⋮</td><td>⋮</td><td>⋮</td><td>⋮</td><td>⋮</td><td>⋮</td></tr>\n",
       "\t<tr><td>6.3</td><td>0.510</td><td>0.13</td><td>2.3</td><td>0.076</td><td>29</td><td>40</td><td>0.99574</td><td>3.42</td><td>0.75</td><td>11.0</td><td>6</td><td>0</td></tr>\n",
       "\t<tr><td>5.9</td><td>0.645</td><td>0.12</td><td>2.0</td><td>0.075</td><td>32</td><td>44</td><td>0.99547</td><td>3.57</td><td>0.71</td><td>10.2</td><td>5</td><td>0</td></tr>\n",
       "\t<tr><td>6.0</td><td>0.310</td><td>0.47</td><td>3.6</td><td>0.067</td><td>18</td><td>42</td><td>0.99549</td><td>3.39</td><td>0.66</td><td>11.0</td><td>6</td><td>0</td></tr>\n",
       "</tbody>\n",
       "</table>\n"
      ],
      "text/latex": [
       "A tibble: 1599 × 13\n",
       "\\begin{tabular}{lllllllllllll}\n",
       " fixed.acidity & volatile.acidity & citric.acid & residual.sugar & chlorides & free.sulfur.dioxide & total.sulfur.dioxide & density & pH & sulphates & alcohol & quality & new\\_quality\\\\\n",
       " <dbl> & <dbl> & <dbl> & <dbl> & <dbl> & <dbl> & <dbl> & <dbl> & <dbl> & <dbl> & <dbl> & <dbl> & <fct>\\\\\n",
       "\\hline\n",
       "\t 7.4 & 0.70 & 0.00 & 1.9 & 0.076 & 11 & 34 & 0.9978 & 3.51 & 0.56 & 9.4 & 5 & 0\\\\\n",
       "\t 7.8 & 0.88 & 0.00 & 2.6 & 0.098 & 25 & 67 & 0.9968 & 3.20 & 0.68 & 9.8 & 5 & 0\\\\\n",
       "\t 7.8 & 0.76 & 0.04 & 2.3 & 0.092 & 15 & 54 & 0.9970 & 3.26 & 0.65 & 9.8 & 5 & 0\\\\\n",
       "\t ⋮ & ⋮ & ⋮ & ⋮ & ⋮ & ⋮ & ⋮ & ⋮ & ⋮ & ⋮ & ⋮ & ⋮ & ⋮\\\\\n",
       "\t 6.3 & 0.510 & 0.13 & 2.3 & 0.076 & 29 & 40 & 0.99574 & 3.42 & 0.75 & 11.0 & 6 & 0\\\\\n",
       "\t 5.9 & 0.645 & 0.12 & 2.0 & 0.075 & 32 & 44 & 0.99547 & 3.57 & 0.71 & 10.2 & 5 & 0\\\\\n",
       "\t 6.0 & 0.310 & 0.47 & 3.6 & 0.067 & 18 & 42 & 0.99549 & 3.39 & 0.66 & 11.0 & 6 & 0\\\\\n",
       "\\end{tabular}\n"
      ],
      "text/markdown": [
       "\n",
       "A tibble: 1599 × 13\n",
       "\n",
       "| fixed.acidity &lt;dbl&gt; | volatile.acidity &lt;dbl&gt; | citric.acid &lt;dbl&gt; | residual.sugar &lt;dbl&gt; | chlorides &lt;dbl&gt; | free.sulfur.dioxide &lt;dbl&gt; | total.sulfur.dioxide &lt;dbl&gt; | density &lt;dbl&gt; | pH &lt;dbl&gt; | sulphates &lt;dbl&gt; | alcohol &lt;dbl&gt; | quality &lt;dbl&gt; | new_quality &lt;fct&gt; |\n",
       "|---|---|---|---|---|---|---|---|---|---|---|---|---|\n",
       "| 7.4 | 0.70 | 0.00 | 1.9 | 0.076 | 11 | 34 | 0.9978 | 3.51 | 0.56 | 9.4 | 5 | 0 |\n",
       "| 7.8 | 0.88 | 0.00 | 2.6 | 0.098 | 25 | 67 | 0.9968 | 3.20 | 0.68 | 9.8 | 5 | 0 |\n",
       "| 7.8 | 0.76 | 0.04 | 2.3 | 0.092 | 15 | 54 | 0.9970 | 3.26 | 0.65 | 9.8 | 5 | 0 |\n",
       "| ⋮ | ⋮ | ⋮ | ⋮ | ⋮ | ⋮ | ⋮ | ⋮ | ⋮ | ⋮ | ⋮ | ⋮ | ⋮ |\n",
       "| 6.3 | 0.510 | 0.13 | 2.3 | 0.076 | 29 | 40 | 0.99574 | 3.42 | 0.75 | 11.0 | 6 | 0 |\n",
       "| 5.9 | 0.645 | 0.12 | 2.0 | 0.075 | 32 | 44 | 0.99547 | 3.57 | 0.71 | 10.2 | 5 | 0 |\n",
       "| 6.0 | 0.310 | 0.47 | 3.6 | 0.067 | 18 | 42 | 0.99549 | 3.39 | 0.66 | 11.0 | 6 | 0 |\n",
       "\n"
      ],
      "text/plain": [
       "     fixed.acidity volatile.acidity citric.acid residual.sugar chlorides\n",
       "1    7.4           0.70             0.00        1.9            0.076    \n",
       "2    7.8           0.88             0.00        2.6            0.098    \n",
       "3    7.8           0.76             0.04        2.3            0.092    \n",
       "⋮    ⋮             ⋮                ⋮           ⋮              ⋮        \n",
       "1597 6.3           0.510            0.13        2.3            0.076    \n",
       "1598 5.9           0.645            0.12        2.0            0.075    \n",
       "1599 6.0           0.310            0.47        3.6            0.067    \n",
       "     free.sulfur.dioxide total.sulfur.dioxide density pH   sulphates alcohol\n",
       "1    11                  34                   0.9978  3.51 0.56      9.4    \n",
       "2    25                  67                   0.9968  3.20 0.68      9.8    \n",
       "3    15                  54                   0.9970  3.26 0.65      9.8    \n",
       "⋮    ⋮                   ⋮                    ⋮       ⋮    ⋮         ⋮      \n",
       "1597 29                  40                   0.99574 3.42 0.75      11.0   \n",
       "1598 32                  44                   0.99547 3.57 0.71      10.2   \n",
       "1599 18                  42                   0.99549 3.39 0.66      11.0   \n",
       "     quality new_quality\n",
       "1    5       0          \n",
       "2    5       0          \n",
       "3    5       0          \n",
       "⋮    ⋮       ⋮          \n",
       "1597 6       0          \n",
       "1598 5       0          \n",
       "1599 6       0          "
      ]
     },
     "metadata": {},
     "output_type": "display_data"
    }
   ],
   "source": [
    "red_wine <- read_csv(\"data/winequality-red.csv\")|>\n",
    "    mutate(new_quality = ifelse(quality < 6.5, 0, 1)) |>\n",
    "    mutate(new_quality = as_factor(new_quality))\n",
    "\n",
    "colnames(red_wine) <- make.names(colnames(red_wine))\n",
    "red_wine"
   ]
  },
  {
   "cell_type": "code",
   "execution_count": 3,
   "id": "9f66bb54-d832-45ef-b9a9-60eda99365a7",
   "metadata": {
    "lines_to_next_cell": 2
   },
   "outputs": [],
   "source": [
    "red_wine_split <- initial_split(red_wine, prop = 0.75, strata = new_quality)\n",
    "\n",
    "red_wine_train <- training(red_wine_split)# |>\n",
    "    #group_by(new_quality) |>\n",
    "    #slice_sample(n = max(table(red_wine$new_quality)), replace = TRUE)\n",
    "\n",
    "red_wine_test <- testing(red_wine_split)"
   ]
  },
  {
   "cell_type": "code",
   "execution_count": 20,
   "id": "14052af0-37ba-4f27-ae60-88fc5c98d3ab",
   "metadata": {},
   "outputs": [
    {
     "data": {
      "text/html": [
       "<table class=\"dataframe\">\n",
       "<caption>A tibble: 10 × 7</caption>\n",
       "<thead>\n",
       "\t<tr><th scope=col>neighbors</th><th scope=col>.metric</th><th scope=col>.estimator</th><th scope=col>mean</th><th scope=col>n</th><th scope=col>std_err</th><th scope=col>.config</th></tr>\n",
       "\t<tr><th scope=col>&lt;int&gt;</th><th scope=col>&lt;chr&gt;</th><th scope=col>&lt;chr&gt;</th><th scope=col>&lt;dbl&gt;</th><th scope=col>&lt;int&gt;</th><th scope=col>&lt;dbl&gt;</th><th scope=col>&lt;chr&gt;</th></tr>\n",
       "</thead>\n",
       "<tbody>\n",
       "\t<tr><td>1</td><td>accuracy</td><td>binary</td><td>0.8622168</td><td>10</td><td>0.006594072</td><td>Preprocessor1_Model01</td></tr>\n",
       "\t<tr><td>2</td><td>accuracy</td><td>binary</td><td>0.8622168</td><td>10</td><td>0.006594072</td><td>Preprocessor1_Model02</td></tr>\n",
       "\t<tr><td>3</td><td>accuracy</td><td>binary</td><td>0.8254302</td><td>10</td><td>0.010280669</td><td>Preprocessor1_Model03</td></tr>\n",
       "\t<tr><td>⋮</td><td>⋮</td><td>⋮</td><td>⋮</td><td>⋮</td><td>⋮</td><td>⋮</td></tr>\n",
       "\t<tr><td> 8</td><td>accuracy</td><td>binary</td><td>0.7703450</td><td>10</td><td>0.01050690</td><td>Preprocessor1_Model08</td></tr>\n",
       "\t<tr><td> 9</td><td>accuracy</td><td>binary</td><td>0.7527886</td><td>10</td><td>0.01163836</td><td>Preprocessor1_Model09</td></tr>\n",
       "\t<tr><td>10</td><td>accuracy</td><td>binary</td><td>0.7527886</td><td>10</td><td>0.01163836</td><td>Preprocessor1_Model10</td></tr>\n",
       "</tbody>\n",
       "</table>\n"
      ],
      "text/latex": [
       "A tibble: 10 × 7\n",
       "\\begin{tabular}{lllllll}\n",
       " neighbors & .metric & .estimator & mean & n & std\\_err & .config\\\\\n",
       " <int> & <chr> & <chr> & <dbl> & <int> & <dbl> & <chr>\\\\\n",
       "\\hline\n",
       "\t 1 & accuracy & binary & 0.8622168 & 10 & 0.006594072 & Preprocessor1\\_Model01\\\\\n",
       "\t 2 & accuracy & binary & 0.8622168 & 10 & 0.006594072 & Preprocessor1\\_Model02\\\\\n",
       "\t 3 & accuracy & binary & 0.8254302 & 10 & 0.010280669 & Preprocessor1\\_Model03\\\\\n",
       "\t ⋮ & ⋮ & ⋮ & ⋮ & ⋮ & ⋮ & ⋮\\\\\n",
       "\t  8 & accuracy & binary & 0.7703450 & 10 & 0.01050690 & Preprocessor1\\_Model08\\\\\n",
       "\t  9 & accuracy & binary & 0.7527886 & 10 & 0.01163836 & Preprocessor1\\_Model09\\\\\n",
       "\t 10 & accuracy & binary & 0.7527886 & 10 & 0.01163836 & Preprocessor1\\_Model10\\\\\n",
       "\\end{tabular}\n"
      ],
      "text/markdown": [
       "\n",
       "A tibble: 10 × 7\n",
       "\n",
       "| neighbors &lt;int&gt; | .metric &lt;chr&gt; | .estimator &lt;chr&gt; | mean &lt;dbl&gt; | n &lt;int&gt; | std_err &lt;dbl&gt; | .config &lt;chr&gt; |\n",
       "|---|---|---|---|---|---|---|\n",
       "| 1 | accuracy | binary | 0.8622168 | 10 | 0.006594072 | Preprocessor1_Model01 |\n",
       "| 2 | accuracy | binary | 0.8622168 | 10 | 0.006594072 | Preprocessor1_Model02 |\n",
       "| 3 | accuracy | binary | 0.8254302 | 10 | 0.010280669 | Preprocessor1_Model03 |\n",
       "| ⋮ | ⋮ | ⋮ | ⋮ | ⋮ | ⋮ | ⋮ |\n",
       "|  8 | accuracy | binary | 0.7703450 | 10 | 0.01050690 | Preprocessor1_Model08 |\n",
       "|  9 | accuracy | binary | 0.7527886 | 10 | 0.01163836 | Preprocessor1_Model09 |\n",
       "| 10 | accuracy | binary | 0.7527886 | 10 | 0.01163836 | Preprocessor1_Model10 |\n",
       "\n"
      ],
      "text/plain": [
       "   neighbors .metric  .estimator mean      n  std_err     .config              \n",
       "1  1         accuracy binary     0.8622168 10 0.006594072 Preprocessor1_Model01\n",
       "2  2         accuracy binary     0.8622168 10 0.006594072 Preprocessor1_Model02\n",
       "3  3         accuracy binary     0.8254302 10 0.010280669 Preprocessor1_Model03\n",
       "⋮  ⋮         ⋮        ⋮          ⋮         ⋮  ⋮           ⋮                    \n",
       "8   8        accuracy binary     0.7703450 10 0.01050690  Preprocessor1_Model08\n",
       "9   9        accuracy binary     0.7527886 10 0.01163836  Preprocessor1_Model09\n",
       "10 10        accuracy binary     0.7527886 10 0.01163836  Preprocessor1_Model10"
      ]
     },
     "metadata": {},
     "output_type": "display_data"
    },
    {
     "data": {
      "text/html": [
       "<table class=\"dataframe\">\n",
       "<caption>A tibble: 2 × 3</caption>\n",
       "<thead>\n",
       "\t<tr><th scope=col>.metric</th><th scope=col>.estimator</th><th scope=col>.estimate</th></tr>\n",
       "\t<tr><th scope=col>&lt;chr&gt;</th><th scope=col>&lt;chr&gt;</th><th scope=col>&lt;dbl&gt;</th></tr>\n",
       "</thead>\n",
       "<tbody>\n",
       "\t<tr><td>accuracy</td><td>binary</td><td>0.8852868</td></tr>\n",
       "\t<tr><td>kap     </td><td>binary</td><td>0.5297267</td></tr>\n",
       "</tbody>\n",
       "</table>\n"
      ],
      "text/latex": [
       "A tibble: 2 × 3\n",
       "\\begin{tabular}{lll}\n",
       " .metric & .estimator & .estimate\\\\\n",
       " <chr> & <chr> & <dbl>\\\\\n",
       "\\hline\n",
       "\t accuracy & binary & 0.8852868\\\\\n",
       "\t kap      & binary & 0.5297267\\\\\n",
       "\\end{tabular}\n"
      ],
      "text/markdown": [
       "\n",
       "A tibble: 2 × 3\n",
       "\n",
       "| .metric &lt;chr&gt; | .estimator &lt;chr&gt; | .estimate &lt;dbl&gt; |\n",
       "|---|---|---|\n",
       "| accuracy | binary | 0.8852868 |\n",
       "| kap      | binary | 0.5297267 |\n",
       "\n"
      ],
      "text/plain": [
       "  .metric  .estimator .estimate\n",
       "1 accuracy binary     0.8852868\n",
       "2 kap      binary     0.5297267"
      ]
     },
     "metadata": {},
     "output_type": "display_data"
    },
    {
     "data": {
      "text/plain": [
       "          Truth\n",
       "Prediction   0   1\n",
       "         0 321  21\n",
       "         1  25  34"
      ]
     },
     "metadata": {},
     "output_type": "display_data"
    },
    {
     "data": {
      "image/png": "[encoded data removed]",
      "text/plain": [
       "plot without title"
      ]
     },
     "metadata": {
      "image/png": {
       "height": 420,
       "width": 420
      }
     },
     "output_type": "display_data"
    }
   ],
   "source": [
    "wine_recipe <- recipe(new_quality~ alcohol + pH + fixed.acidity, data = red_wine_train) |>\n",
    "    step_scale(all_predictors()) |>\n",
    "    step_center(all_predictors()) |>\n",
    "    step_upsample(new_quality, over_ratio = 1, skip = TRUE)\n",
    "\n",
    "knn_tune <- nearest_neighbor(weight_func = \"rectangular\", neighbors = tune()) |>\n",
    "    set_engine(\"kknn\") |>\n",
    "    set_mode(\"classification\")\n",
    "\n",
    "wine_vfold <- vfold_cv(red_wine_train, v = 10, strata = new_quality)\n",
    "\n",
    "kvals <- tibble(neighbors = seq(1,10))\n",
    "\n",
    "wine_results <- workflow() |>\n",
    "    add_recipe(wine_recipe) |>\n",
    "    add_model(knn_tune) |>\n",
    "    tune_grid(resamples = wine_vfold, grid = kvals) |>\n",
    "    collect_metrics() |>\n",
    "    filter(.metric == \"accuracy\")|>\n",
    "    arrange(desc(mean))\n",
    "\n",
    "accuracy_versus_k <- ggplot(wine_results, aes(x = neighbors, y = mean))+\n",
    "       geom_point() +\n",
    "       geom_line() +\n",
    "       labs(x = \"Neighbors\", y = \"Accuracy Estimate\")\n",
    "\n",
    "knn_2 <- nearest_neighbor(weight_func = \"rectangular\", neighbors = 2) |>\n",
    "    set_engine(\"kknn\") |>\n",
    "    set_mode(\"classification\")\n",
    "\n",
    "wine_fit <- workflow() |>\n",
    "       add_recipe(wine_recipe) |>\n",
    "       add_model(knn_2) |>\n",
    "       fit(data = red_wine_train)\n",
    "\n",
    "wine_test_predictions <- predict(wine_fit, red_wine_test) |>\n",
    "       bind_cols(red_wine_test) |>\n",
    "       metrics(truth = new_quality, estimate = .pred_class) \n",
    "\n",
    "wine_mat <- predict(wine_fit, red_wine_test) |>\n",
    "       bind_cols(red_wine_test) |> \n",
    "       conf_mat(truth = new_quality, estimate = .pred_class)\n",
    "\n",
    "wine_results\n",
    "accuracy_versus_k\n",
    "wine_test_predictions\n",
    "wine_mat"
   ]
  },
  {
   "cell_type": "code",
   "execution_count": null,
   "id": "4d1570c9-2b28-47d9-b8fc-55be4f287af3",
   "metadata": {},
   "outputs": [],
   "source": [
    "cheap_wine <- tibble(pH = 3.58,\n",
    "                   fixed.acidity = 6.3,\n",
    "                    alcohol = 13.9)\n",
    "\n",
    "cheap_wine_2 <- tibble(pH = 3.77,\n",
    "                   fixed.acidity = 5.3,\n",
    "                    alcohol = 13.5)\n",
    "\n",
    "cheap_wine_3 <- tibble(pH = 3.76,\n",
    "                   fixed.acidity = 5.3,\n",
    "                    alcohol = 14.5)\n",
    "\n",
    "medium_wine <- tibble(pH = 3.7,\n",
    "                   fixed.acidity = 7.07,\n",
    "                    alcohol = 14.5)\n",
    "\n",
    "exp_wine <- tibble(pH = 3.62,\n",
    "                   fixed.acidity = 6.9,\n",
    "                    alcohol = 13.5)\n",
    "\n",
    "cheap_wine_predict <- predict(wine_fit, cheap_wine)\n",
    "cheap_wine_2_predict <- predict(wine_fit, cheap_wine_2)\n",
    "medium_wine_predict <- predict(wine_fit, medium_wine)\n",
    "exp_wine_predict <- predict(wine_fit, exp_wine)\n",
    "cheap_wine_3_predict <- predict(wine_fit, cheap_wine_3)\n",
    "\n",
    "cheap_wine_predict\n",
    "medium_wine_predict\n",
    "exp_wine_predict\n",
    "cheap_wine_2_predict\n",
    "cheap_wine_3_predict"
   ]
  },
  {
   "cell_type": "code",
   "execution_count": null,
   "id": "4d0b3536-4aec-43e9-8ca8-6bf7dd84db41",
   "metadata": {},
   "outputs": [],
   "source": [
    "red_wine_quality_count <- red_wine_train |>\n",
    "    group_by(quality) |>\n",
    "    summarize(count = n())\n",
    "\n",
    "#missing_data <- red_wine_train |>\n",
    " #   summarize(NA_rows = sum(is.na(\" \")))\n",
    "\n",
    "red_wine_mean <- red_wine_train |>\n",
    "    select(-quality) |>\n",
    "    summarize(across(fixed.acidity:alcohol, mean))\n",
    "\n",
    "red_wine_mean\n",
    "red_wine_quality_count\n",
    "#missing_data"
   ]
  },
  {
   "cell_type": "code",
   "execution_count": null,
   "id": "9af00e34-6603-40fe-8112-d2bcb2107ad7",
   "metadata": {
    "lines_to_next_cell": 2
   },
   "outputs": [],
   "source": [
    "options(repr.plot.height = 12, repr.plot.width = 12)\n",
    "library(ggplot2)\n",
    "library(GGally)\n",
    "\n",
    "my_ggpairs <- ggpairs(red_wine_train, columns = c(\"fixed.acidity\", \"pH\", \"alcohol\", \"new_quality\"))\n",
    "my_ggpairs"
   ]
  },
  {
   "cell_type": "code",
   "execution_count": null,
   "id": "d9039d11-cef9-4930-b6e2-716d67e4fa7e",
   "metadata": {},
   "outputs": [],
   "source": [
    "#Below, we have created three histograms according to three predictors, showing distribution of wine quality\n",
    "\n",
    "options(repr.plot.height = 8, repr.plot.width = 8)\n",
    "red_wine_plot <- red_wine_train |>\n",
    "    ggplot(aes(x = pH, fill = quality)) + \n",
    "    geom_histogram() + \n",
    "    xlab(\"pH\") +\n",
    "    ylab(\"Count\") +\n",
    "    labs(fill = \"Wine Quality\") +\n",
    "    ggtitle(\"Distribution of Qualities According to pH\")\n",
    "\n",
    "red_wine_plot2 <- red_wine_train |>\n",
    "    ggplot(aes(x = fixed.acidity, fill = quality)) + \n",
    "    geom_histogram() + \n",
    "    xlab(\"Fixed Acidity (g/L)\") +\n",
    "    ylab(\"Count\") +\n",
    "    labs(fill = \"Wine Quality\") +\n",
    "    ggtitle(\"Distribution of Qualities According to Fixed Acidity\")\n",
    "\n",
    "red_wine_plot3 <- red_wine_train |>\n",
    "    ggplot(aes(x = alcohol, fill = quality)) + \n",
    "    geom_histogram() + \n",
    "    xlab(\"Alcohol (%)\") +\n",
    "    ylab(\"Count\") +\n",
    "    labs(fill = \"Wine Quality\") +\n",
    "    ggtitle(\"Distribution of Qualities According to Alcohol Content\")\n",
    "\n",
    "red_wine_plot\n",
    "red_wine_plot2\n",
    "red_wine_plot3"
   ]
  },
  {
   "cell_type": "markdown",
   "id": "b994beba-8ac3-4d7c-904f-079ecd406e91",
   "metadata": {},
   "source": [
    "#### Methods"
   ]
  },
  {
   "cell_type": "markdown",
   "id": "7cfef817-3ed2-46cf-a931-a3c34d8e5543",
   "metadata": {},
   "source": [
    "We will conduct our data analysis using three predictors from our dataset: fixed acidity, alcohol content, and pH. We decided on these three predictors due to the online accessibility of this information; many red wine companies do not share the finer contents of their wines, such as sulfur dioxide, density, volatile and citric acids, etc. However alcohol content, fixed acidity, and pH are far more easily found and therefore the best predictors to answer our question.\n",
    "\n",
    "To visualize our data, we have created three histograms, showing the distribution of wine quality according to each predictor. We have done this to focus on the effect of the predictors on the quality of wine. We will use this visualization to try and understand which specific amount of variable (alcohol content, pH, and fixed acidity) would correspond to a higher quality rating. These graphs hint at how the classifier we train will end up classifying wines as either higher or lower quality, and where the ranges of the predictors fall for higher quality wines.\n",
    "\n",
    "- specify classification algorithm used\n",
    "- More detailed explanation is required in how this visulization leads to better understand the relation between predictor vs target"
   ]
  },
  {
   "cell_type": "markdown",
   "id": "ee624a57-fbc5-44da-a22a-2cf4636de1e0",
   "metadata": {},
   "source": [
    "#### Expected Outcomes & Significance"
   ]
  },
  {
   "cell_type": "markdown",
   "id": "089a58ae-3956-4593-9530-630c941d5259",
   "metadata": {},
   "source": [
    "We expect to find the quality of wine based on the classifier we have created. Taking the Vinho Verde dataset, we will use our classifier to distinguish between the various wines in the sample based on three predictors, ranging from 0 to 10. \n",
    "\n",
    "If the classifier successfully identifies the quality of the red wine samples (related to their prices), separate from the data set, our classifier would demonstrate efficiency and accuracy that could be useful for data outside of ours. This can be a pioneering method in the wine industry that can be utilized commercially for pricing wine based on physical quality, or allow wine connoisseurs to assess wines digitally.\n",
    "\n",
    "One question emerging from our results could be whether K-nearest neighbor classification could change the way the wine industry prices new wines. Should this classifier become a routine part of the industry, would it become a quicker way to distinguish between wine qualities and price them appropriately? Additionally, could current wine prices change?\n",
    "\n",
    "- provide more detail on the expected outcomes and the potential significance of the findings\n",
    "- acknowledge the limitations of the study and suggest potential avenues for future research"
   ]
  },
  {
   "cell_type": "code",
   "execution_count": null,
   "id": "f686d534-b6fd-4936-b360-e947b6408802",
   "metadata": {},
   "outputs": [],
   "source": []
  }
 ],
 "metadata": {
  "jupytext": {
   "formats": "ipynb,R:light"
  },
  "kernelspec": {
   "display_name": "R",
   "language": "R",
   "name": "ir"
  },
  "language_info": {
   "codemirror_mode": "r",
   "file_extension": ".r",
   "mimetype": "text/x-r-source",
   "name": "R",
   "pygments_lexer": "r",
   "version": "4.1.3"
  },
  "toc-autonumbering": false,
  "toc-showcode": true,
  "toc-showmarkdowntxt": false,
  "toc-showtags": false
 },
 "nbformat": 4,
 "nbformat_minor": 5
}
