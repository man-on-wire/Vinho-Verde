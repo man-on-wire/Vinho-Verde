{
 "cells": [
  {
   "cell_type": "markdown",
   "id": "14f732d0-7a73-4ae3-bdfc-fff3c87ec290",
   "metadata": {},
   "source": [
    "#### Title: Classifying Red Wine Quality - Group 21"
   ]
  },
  {
   "cell_type": "markdown",
   "id": "e0ce3266-dee1-4973-9830-41cad6ee4e9a",
   "metadata": {},
   "source": [
    "#### Introduction"
   ]
  },
  {
   "cell_type": "markdown",
   "id": "f1f6b3fe-8c89-4cf6-b952-9095e8c2585d",
   "metadata": {},
   "source": [
    "Provide some relevant background information on the topic so that someone unfamiliar with it will be prepared to understand the rest of your proposal\n",
    "Clearly state the question you will try to answer with your project\n",
    "Identify and describe the dataset that will be used to answer the question"
   ]
  },
  {
   "cell_type": "markdown",
   "id": "351d063c-8b55-40ba-b294-26ad13014c1f",
   "metadata": {},
   "source": [
    "#### Preliminary exploratory data analysis"
   ]
  },
  {
   "cell_type": "markdown",
   "id": "d4383c71-6f2f-4d83-a933-d3414b48ad9c",
   "metadata": {},
   "source": [
    "Demonstrate that the dataset can be read from the web into R.\n",
    "Clean and wrangle your data into a tidy format. Summarize and visualize data."
   ]
  },
  {
   "cell_type": "markdown",
   "id": "b994beba-8ac3-4d7c-904f-079ecd406e91",
   "metadata": {},
   "source": [
    "#### Methods"
   ]
  },
  {
   "cell_type": "markdown",
   "id": "7cfef817-3ed2-46cf-a931-a3c34d8e5543",
   "metadata": {},
   "source": [
    "Explain and descibe visual analysis."
   ]
  },
  {
   "cell_type": "markdown",
   "id": "ee624a57-fbc5-44da-a22a-2cf4636de1e0",
   "metadata": {},
   "source": [
    "#### Expected Outcomes & Significance"
   ]
  },
  {
   "cell_type": "markdown",
   "id": "089a58ae-3956-4593-9530-630c941d5259",
   "metadata": {},
   "source": []
  }
 ],
 "metadata": {
  "kernelspec": {
   "display_name": "R",
   "language": "R",
   "name": "ir"
  },
  "language_info": {
   "codemirror_mode": "r",
   "file_extension": ".r",
   "mimetype": "text/x-r-source",
   "name": "R",
   "pygments_lexer": "r",
   "version": "4.1.3"
  }
 },
 "nbformat": 4,
 "nbformat_minor": 5
}
