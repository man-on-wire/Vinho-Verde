{
 "cells": [
  {
   "cell_type": "markdown",
   "id": "14f732d0-7a73-4ae3-bdfc-fff3c87ec290",
   "metadata": {},
   "source": [
    "#### Title: Classifying Red Wine Quality - Group 21"
   ]
  },
  {
   "cell_type": "markdown",
   "id": "e0ce3266-dee1-4973-9830-41cad6ee4e9a",
   "metadata": {},
   "source": [
    "#### Introduction"
   ]
  },
  {
   "cell_type": "markdown",
   "id": "f1f6b3fe-8c89-4cf6-b952-9095e8c2585d",
   "metadata": {},
   "source": [
    "\"Vinho Verde'' is a Portuguese wine which has three main variants, of which we will be considering red. In the kaggle dataset we are using from UCI Machine Learning, its quality is affected by 11 different physicochemical variables, such as acidity, chlorides, density, etc.. These 11 variables determine the quality of the wine, on a scale from 0-10. We will conduct our data analysis using three predictors from our dataset: fixed acidity, alcohol content, and pH.\n",
    "\n",
    "Our ultimate goal is to create a k-nearest neighbors classifier (built off of our dataset) to classify the quality of various red wines at different price points that are sourced from outside of the dataset. This will ultimately help us determine whether or not the differences in the qualities of the wines generally correspond to their differences in price. We can rephrase this as a predictive research question: Given a k-means classifier, does a difference in the quality of a red wine reflect a difference in its price?"
   ]
  },
  {
   "cell_type": "markdown",
   "id": "a2c13f3c-8718-4ed8-ba50-5ea5c48b065b",
   "metadata": {},
   "source": [
    "#### Methodology\n",
    "\n",
    "We decided on the three predictors outlined above due to the online accessibility of this information; many red wine companies do not share the finer contents of their wines, such as sulfur dioxide, density, volatile and citric acids, etc. However alcohol content, fixed acidity, and pH are far more easily found and therefore the best predictors to answer our question, especially important considering that we are sourcing wines from the internet.\n",
    "\n",
    "Since this proposal is a classification task, we will build a classifier to categorize wines as either good or poor in quality - for which we will be using the K-nearest neighbors classification algorithm. The classifier will be trained to recognize the quality of wine based on the three predictors outlined above. We will define good quality wine as having a quality rating over _6.5_ and anything below as poor quality - a threshold set by the creator of the dataset. The good quality wines will be assigned _1_ and the poor quality wines will be assigned _0_. This is done for the purpose of making a binary classifier, rather than a multiclass one, creating more concrete distinctions between the qualities of the wines and avoiding an unecessarily complex model that may have lower accuracy. Additionally, since each variable has a small range of values, it will already prove difficult to accurately classify each wine into such specific qualities. Thus, creating a binary classifier eliminates this problem, since there are only two, broad classes to consider.\n",
    "\n",
    "In our preliminatory data visualization, we will use a ggpairs matrix to examine the general relationship between the wine class (good or poor) and our chosen predictors, giving us an idea of what parameters to expect in our classifier. The plot will help us see the mean values of each predictor that fall into either class. When we build the classifier, we will have to tune the number of neighbors and create a line plot to show at which *k* the classifier takes on the highest accuracy. These are the visuals to be expected."
   ]
  },
  {
   "cell_type": "markdown",
   "id": "351d063c-8b55-40ba-b294-26ad13014c1f",
   "metadata": {},
   "source": [
    "#### Preliminary exploratory data analysis"
   ]
  },
  {
   "cell_type": "code",
   "execution_count": null,
   "id": "f90830c0-8f91-4c38-a346-62a1ac6e7ef2",
   "metadata": {},
   "outputs": [
    {
     "name": "stderr",
     "output_type": "stream",
     "text": [
      "also installing the dependencies ‘dplyr’, ‘clock’, ‘recipes’\n",
      "\n",
      "\n"
     ]
    }
   ],
   "source": [
    "install.packages(\"themis\")\n",
    "install.packages(\"GGally\")\n",
    "\n",
    "library(dplyr)\n",
    "library(tidyverse)\n",
    "library(tidymodels)\n",
    "\n",
    "library(themis)\n",
    "library(ggplot2)\n",
    "library(GGally)"
   ]
  },
  {
   "cell_type": "markdown",
   "id": "8fa07e56-efa0-4fa8-9be7-2528a764b118",
   "metadata": {},
   "source": [
    "After loading in the necessary libraries, we first read in the red wine data, using the \"mutate\" and \"ifelse\" functions in conjunction to create a new column, distinguishing the wines as either good or poor. The original dataset sets the threshold for a good wine at >6.5 and we followed this in our code. We called this new column \"new_quality\" to make it distinct from the existing \"quality\" column, and it only contains 0s and 1s to indicate the binary wine quality. In order to use total acidity as a predictor, we use the mutate function to combine the values of the two existing acidity columns. Finally, we removed white spaces from between the column names to be able to later call on them, tidying the data."
   ]
  },
  {
   "cell_type": "code",
   "execution_count": null,
   "id": "f183b979-2dbc-4f3b-9723-2f840218b3a0",
   "metadata": {},
   "outputs": [],
   "source": [
    "options(repr.matrix.max.rows = 6)\n",
    "\n",
    "red_wine <- read_csv(\"data/winequality-red.csv\")|>\n",
    "    mutate(new_quality = ifelse(quality < 6.5, 0, 1)) |>\n",
    "    mutate(new_quality = as_factor(new_quality))\n",
    "\n",
    "colnames(red_wine) <- make.names(colnames(red_wine))\n",
    "\n",
    "red_wine <- red_wine |>\n",
    "    mutate(total.acidity = fixed.acidity + volatile.acidity)\n",
    "red_wine"
   ]
  },
  {
   "cell_type": "markdown",
   "id": "cc3b6157-66bc-498d-894d-cb482a3a45e2",
   "metadata": {},
   "source": [
    "Before we build our classifier, we can visualize and create tables for the original data to extract more information from it. We chose to create a simple ggpairs matrix to simultaneously observe the relationships between our chosen predictors and the binary wine quality. Since we are interested in how the quality varies with each predictor, we focussed on the rightmost four graphs in the matrix (3 boxplots and 1 bargraph).\n",
    "\n",
    "Observing the graph of new quality v. fixed acidity, we noticed that wines falling in the \"good\" class or the 1 class had a higher mean total acidity. Observing the graphs for the other two predictors, good quality wines had a higher mean alcohol content and lower average pH. However, the differences between these averages are not significant, suggesting that the classifier may have difficulty distinguishing between qualities given the small range of alcohol, fixed acidity, and pH values.\n",
    "\n",
    "The proportion of good wines to poor wines was also noted in the bottom right bar graph, showing how good wine is a minority class. This indicates that the data will have to be balanced or upscaled at some point in the analysis to avoid the classifier being biased towards the majority class - poor quality wine - when making predictions on the testing data."
   ]
  },
  {
   "cell_type": "code",
   "execution_count": null,
   "id": "9af00e34-6603-40fe-8112-d2bcb2107ad7",
   "metadata": {
    "lines_to_next_cell": 2
   },
   "outputs": [],
   "source": [
    "options(repr.plot.height = 12, repr.plot.width = 12)\n",
    "\n",
    "my_ggpairs <- ggpairs(red_wine, columns = c(\"total.acidity\", \"pH\", \"alcohol\", \"new_quality\"))\n",
    "my_ggpairs"
   ]
  },
  {
   "cell_type": "markdown",
   "id": "8b03703c-5951-409c-90bd-bd7067b380cd",
   "metadata": {},
   "source": [
    "Following the visualization, we created three more informative tibbles. The first of these shows the mean values of each predictor which, though not explicitly relevant, does show that the predictors have different scales and that they will need to be normalized in the analysis to create a reliable classifier. The second tibble shows the exact proportion of poor to good wines, with good wines making up only 13.5% of the dataset - further indication that we should balance it in the analysis. Finally, we determine that there are no missing values in the dataset. This preliminary exploration of the data informs our decisions in the analysis portion of the proposal."
   ]
  },
  {
   "cell_type": "code",
   "execution_count": null,
   "id": "4d0b3536-4aec-43e9-8ca8-6bf7dd84db41",
   "metadata": {},
   "outputs": [],
   "source": [
    "red_wine_quality_count <- red_wine_train |>\n",
    "    group_by(new_quality) |>\n",
    "    summarize(count = n())\n",
    "\n",
    "missing_data <- red_wine_train |>\n",
    "    summarize(empty_rows = sum(is.na(\" \")))\n",
    "\n",
    "red_wine_mean <- red_wine_train |>\n",
    "    select(-quality) |>\n",
    "    summarize(across(fixed.acidity:alcohol, mean))\n",
    "\n",
    "red_wine_mean\n",
    "red_wine_quality_count\n",
    "missing_data"
   ]
  },
  {
   "cell_type": "markdown",
   "id": "d39cbb31-0bd9-4037-a3a3-0fee21d35ddb",
   "metadata": {},
   "source": [
    "To train the k-means classifier, we split the mutated red wine data into 75% training and 25% testing data. We specified that the class on which to base the splitting was new_quality, as this is the class we will be working with. In order to make our code reproducible, we set a seed at the beginning, ensuring that the same random sequences of numbers are considered for the outputs."
   ]
  },
  {
   "cell_type": "code",
   "execution_count": null,
   "id": "9f66bb54-d832-45ef-b9a9-60eda99365a7",
   "metadata": {
    "lines_to_next_cell": 2
   },
   "outputs": [],
   "source": [
    "set.seed(2020)\n",
    "red_wine_split <- initial_split(red_wine, prop = 0.75, strata = new_quality)\n",
    "\n",
    "red_wine_train <- training(red_wine_split)\n",
    "\n",
    "red_wine_test <- testing(red_wine_split)"
   ]
  },
  {
   "cell_type": "markdown",
   "id": "c2a7cec3-c631-4e48-a387-e57e45daa7e0",
   "metadata": {},
   "source": [
    "Now having the testing and training data, we created a recipe for the training data with the three predictors outline in the introduction - alcohol, pH, and fixed acidity. We scaled and centered all the predictors in the recipe to ensure that every predictor has an equal influence over the model. We also chose to upsample the underepresented \"good\" quality wines as they only comprised 13.5% of the original data. This is done to prevent the classifier from being biased to the overepresented \"poor\" quality wines and making inaccurate predictions.\n",
    "\n",
    "We then created a knn model, specifying the task to be classification, and set the neighbors to tune(), since we needed to optimize the k value we would use in the final model. The number of neighbors considered in the cross validation will be from 1-10, sequentially."
   ]
  },
  {
   "cell_type": "code",
   "execution_count": null,
   "id": "14052af0-37ba-4f27-ae60-88fc5c98d3ab",
   "metadata": {},
   "outputs": [],
   "source": [
    "set.seed(2000)\n",
    "\n",
    "wine_recipe <- recipe(new_quality~ alcohol + pH + fixed.acidity, data = red_wine_train) |>\n",
    "    step_scale(all_predictors()) |>\n",
    "    step_center(all_predictors()) |> \n",
    "    step_upsample(new_quality, over_ratio = 1, skip = FALSE)\n",
    "\n",
    "wine_upscaled <- wine_recipe |>\n",
    "    prep() |>\n",
    "    bake(red_wine_train)\n",
    "\n",
    "wine_recipe_upscaled <- recipe(new_quality~ alcohol + pH + fixed.acidity, data = wine_upscaled)\n",
    "\n",
    "knn_tune <- nearest_neighbor(weight_func = \"rectangular\", neighbors = tune()) |>\n",
    "    set_engine(\"kknn\") |>\n",
    "    set_mode(\"classification\")\n",
    "\n",
    "wine_vfold <- vfold_cv(red_wine_train, v = 10, strata = new_quality)\n",
    "\n",
    "kvals <- tibble(neighbors = seq(1,10))"
   ]
  },
  {
   "cell_type": "markdown",
   "id": "ed9c6775-22e2-4c12-a65c-7592efa45460",
   "metadata": {},
   "source": [
    "With the recipe and model created, we passed them into the workflow and generated results for various mean accuracies corresponding to various numbers of neighbors. To determine the optimal k, we created a plot of the mean vs. neighbors, identifying this value of k to be 7, as seen below."
   ]
  },
  {
   "cell_type": "code",
   "execution_count": null,
   "id": "772343c7-b9d2-4b59-b622-1e800c2fa935",
   "metadata": {},
   "outputs": [],
   "source": [
    "set.seed(2000)\n",
    "options(repr.max.plot.width = 6, repr.max.plot.height = 6)\n",
    "\n",
    "wine_results <- workflow() |>\n",
    "    add_recipe(wine_recipe_upscaled) |>\n",
    "    add_model(knn_tune) |>\n",
    "    tune_grid(resamples = wine_vfold, grid = kvals) |>\n",
    "    collect_metrics() |>\n",
    "    filter(.metric == \"accuracy\")|>\n",
    "    arrange(desc(mean))\n",
    "\n",
    "accuracy_versus_k <- ggplot(wine_results, aes(x = neighbors, y = mean))+\n",
    "       geom_point() +\n",
    "       geom_line() +\n",
    "       labs(x = \"Neighbors\", y = \"Accuracy Estimate\")\n",
    "\n",
    "accuracy_versus_k\n",
    "wine_results"
   ]
  },
  {
   "cell_type": "markdown",
   "id": "006427ad-47cd-415b-a2d8-024d43d34041",
   "metadata": {},
   "source": [
    "Having our optimal *k*, we recreated our classification model, fitting the recipe and model to our training data after passing it through the workflow. The testing data was then used to generate accuracy metrics for the classifier, including a confusion matrix. From this, we gathered that our final classifier has a reasonable accuracy of 90% using *k* = 7."
   ]
  },
  {
   "cell_type": "code",
   "execution_count": null,
   "id": "afe8a6a3-c2f6-4fa9-861a-e77bd752a3c1",
   "metadata": {},
   "outputs": [],
   "source": [
    "knn_2 <- nearest_neighbor(weight_func = \"rectangular\", neighbors = 2) |>\n",
    "    set_engine(\"kknn\") |>\n",
    "    set_mode(\"classification\")\n",
    "\n",
    "wine_fit <- workflow() |>\n",
    "       add_recipe(wine_recipe) |>\n",
    "       add_model(knn_2) |>\n",
    "       fit(data = red_wine_train)\n",
    "\n",
    "wine_test_predictions <- predict(wine_fit, red_wine_test) |>\n",
    "       bind_cols(red_wine_test) |>\n",
    "       metrics(truth = new_quality, estimate = .pred_class) \n",
    "\n",
    "wine_mat <- predict(wine_fit, red_wine_test) |>\n",
    "       bind_cols(red_wine_test) |> \n",
    "       conf_mat(truth = new_quality, estimate = .pred_class)\n",
    "\n",
    "wine_test_predictions\n",
    "wine_mat"
   ]
  },
  {
   "cell_type": "markdown",
   "id": "9737501b-662d-4621-9d36-ae4f83d6aedc",
   "metadata": {},
   "source": [
    "Using our knowledge of classification, we successfully built a reliable k-means model that can classify wines into two categories - good or poor - based on their pH, alcohol, and levels of fixed acidity. With this model, it is now possible to predict the qualities of red wines sourced outside of our dataset. To involve variety in our choices, we selected cheap, medium-priced, and expensive wines from a single website, taking their predictor details and creating new tibbles for each one. We then passed these new observations through the predict function with our fitted model."
   ]
  },
  {
   "cell_type": "code",
   "execution_count": null,
   "id": "4d1570c9-2b28-47d9-b8fc-55be4f287af3",
   "metadata": {},
   "outputs": [],
   "source": [
    "cheap_wine <- tibble(pH = 3.58,\n",
    "                   fixed.acidity = 6.3,\n",
    "                    alcohol = 13.9)\n",
    "\n",
    "cheap_wine_2 <- tibble(pH = 3.77,\n",
    "                   fixed.acidity = 5.3,\n",
    "                    alcohol = 13.5)\n",
    "\n",
    "cheap_wine_3 <- tibble(pH = 3.76,\n",
    "                   fixed.acidity = 5.3,\n",
    "                    alcohol = 14.5)\n",
    "\n",
    "medium_wine <- tibble(pH = 3.7,\n",
    "                   fixed.acidity = 7.07,\n",
    "                    alcohol = 14.5)\n",
    "\n",
    "exp_wine <- tibble(pH = 3.62,\n",
    "                   fixed.acidity = 6.9,\n",
    "                    alcohol = 13.5)\n",
    "\n",
    "cheap_wine_predict <- predict(wine_fit, cheap_wine)\n",
    "cheap_wine_2_predict <- predict(wine_fit, cheap_wine_2)\n",
    "medium_wine_predict <- predict(wine_fit, medium_wine)\n",
    "exp_wine_predict <- predict(wine_fit, exp_wine)\n",
    "cheap_wine_3_predict <- predict(wine_fit, cheap_wine_3)\n",
    "\n",
    "cheap_wine_predict\n",
    "medium_wine_predict\n",
    "exp_wine_predict\n",
    "cheap_wine_2_predict\n",
    "cheap_wine_3_predict"
   ]
  },
  {
   "cell_type": "markdown",
   "id": "b994beba-8ac3-4d7c-904f-079ecd406e91",
   "metadata": {},
   "source": [
    "#### Methods"
   ]
  },
  {
   "cell_type": "markdown",
   "id": "7cfef817-3ed2-46cf-a931-a3c34d8e5543",
   "metadata": {},
   "source": [
    "We will conduct our data analysis using three predictors from our dataset: fixed acidity, alcohol content, and pH. We decided on these three predictors due to the online accessibility of this information; many red wine companies do not share the finer contents of their wines, such as sulfur dioxide, density, volatile and citric acids, etc. However alcohol content, fixed acidity, and pH are far more easily found and therefore the best predictors to answer our question.\n",
    "\n",
    "To visualize our data, we have created three histograms, showing the distribution of wine quality according to each predictor. We have done this to focus on the effect of the predictors on the quality of wine. We will use this visualization to try and understand which specific amount of variable (alcohol content, pH, and fixed acidity) would correspond to a higher quality rating. These graphs hint at how the classifier we train will end up classifying wines as either higher or lower quality, and where the ranges of the predictors fall for higher quality wines.\n",
    "\n",
    "- specify classification algorithm used\n",
    "- More detailed explanation is required in how this visulization leads to better understand the relation between predictor vs target"
   ]
  },
  {
   "cell_type": "markdown",
   "id": "ee624a57-fbc5-44da-a22a-2cf4636de1e0",
   "metadata": {},
   "source": [
    "#### Expected Outcomes & Significance"
   ]
  },
  {
   "cell_type": "markdown",
   "id": "089a58ae-3956-4593-9530-630c941d5259",
   "metadata": {},
   "source": [
    "We expect to find the quality of wine based on the classifier we have created. Taking the Vinho Verde dataset, we will use our classifier to distinguish between the various wines in the sample based on three predictors, ranging from 0 to 10. \n",
    "\n",
    "If the classifier successfully identifies the quality of the red wine samples (related to their prices), separate from the data set, our classifier would demonstrate efficiency and accuracy that could be useful for data outside of ours. This can be a pioneering method in the wine industry that can be utilized commercially for pricing wine based on physical quality, or allow wine connoisseurs to assess wines digitally.\n",
    "\n",
    "One question emerging from our results could be whether K-nearest neighbor classification could change the way the wine industry prices new wines. Should this classifier become a routine part of the industry, would it become a quicker way to distinguish between wine qualities and price them appropriately? Additionally, could current wine prices change?\n",
    "\n",
    "- provide more detail on the expected outcomes and the potential significance of the findings\n",
    "- acknowledge the limitations of the study and suggest potential avenues for future research"
   ]
  },
  {
   "cell_type": "code",
   "execution_count": null,
   "id": "f686d534-b6fd-4936-b360-e947b6408802",
   "metadata": {},
   "outputs": [],
   "source": []
  }
 ],
 "metadata": {
  "jupytext": {
   "formats": "ipynb,R:light"
  },
  "kernelspec": {
   "display_name": "R",
   "language": "R",
   "name": "ir"
  },
  "language_info": {
   "codemirror_mode": "r",
   "file_extension": ".r",
   "mimetype": "text/x-r-source",
   "name": "R",
   "pygments_lexer": "r",
   "version": "4.1.1"
  },
  "toc-autonumbering": false,
  "toc-showcode": true,
  "toc-showmarkdowntxt": false,
  "toc-showtags": false
 },
 "nbformat": 4,
 "nbformat_minor": 5
}
