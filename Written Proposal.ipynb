{
 "cells": [
  {
   "cell_type": "markdown",
   "id": "14f732d0-7a73-4ae3-bdfc-fff3c87ec290",
   "metadata": {},
   "source": [
    "#### Title: Classifying Red Wine Quality - Group 21"
   ]
  },
  {
   "cell_type": "markdown",
   "id": "e0ce3266-dee1-4973-9830-41cad6ee4e9a",
   "metadata": {},
   "source": [
    "#### Introduction"
   ]
  },
  {
   "cell_type": "markdown",
   "id": "f1f6b3fe-8c89-4cf6-b952-9095e8c2585d",
   "metadata": {},
   "source": [
    "\"Vinho Verde'' is a Portuguese wine with three variants, of which we will be considering red. In the kaggle dataset we are using from UCI Machine Learning (listed in references), its quality is affected by 11 different physicochemical variables, such as acidity, chlorides, density, etc.. These determine the quality of the wine, on a scale from 0-10. We will conduct our data analysis using three predictors from our dataset: total acidity, alcohol content, and pH. However, since total acidity is not technically within the dataset, we will combine the values of fixed and volatile acidity into a new column.\n",
    "\n",
    "Our ultimate goal is to create a k-nearest neighbors classifier (off of our dataset) to classify the quality of red wines at different price points that are sourced from outside of the dataset. This will help us determine whether or not the differences in the qualities of the wines generally correspond to their differences in price. We can rephrase this as a predictive research question: Using a k-means classifier to predict the quality of various wines, does a difference in the quality of red wine reflect a difference in its price?"
   ]
  },
  {
   "cell_type": "markdown",
   "id": "a2c13f3c-8718-4ed8-ba50-5ea5c48b065b",
   "metadata": {},
   "source": [
    "#### Methodology\n",
    "\n",
    "We decided on the three predictors outlined above due to the online accessibility of this information; many red wine companies do not share the finer contents of their wines, such as sulfur dioxide, density, citric acid, etc. However alcohol content, total acidity, and pH are far more easily found and therefore the best predictors to answer our question, especially important considering that we are sourcing wines from the internet. To further justify our choice of parameters in the analysis section, we will train the model on each parameter separately, to demonstrate that they can produce a high accuracy model by themselves.\n",
    "\n",
    "Since this report is a classification task, we will build a classifier with the K-nearest neighbors algorithm. It will be trained to recognize the quality of wine based on the three predictors outlined above. We will define good quality wine as having a quality rating over 6.5 and anything below as poor quality - a threshold set by the dataset creators. Good quality wines will be assigned 1 and poor quality wines will be assigned 0. This is done for the purpose of making a binary classifier, rather than a multiclass one, creating more concrete distinctions between the qualities of the wines and avoiding an unnecessarily complex model with lower accuracy. Additionally, since each variable has a small range of values, it will already prove difficult to accurately classify each wine into such specific qualities. Thus, creating a binary classifier eliminates this problem, since there are only two, broad classes to consider.\n",
    "\n",
    "In our preliminary visualization, we will use a ggpairs matrix to examine the general relationship between the wine class (good or poor) and our chosen predictors, giving us an idea of what parameters thresholds to expect with our classifier. The plot will help us see the mean values of each predictor that fall into either class. Additionally, when we build the classifier, we will have to tune the number of neighbors and create a line plot to show at which k the classifier takes on the highest accuracy. "
   ]
  },
  {
   "cell_type": "markdown",
   "id": "351d063c-8b55-40ba-b294-26ad13014c1f",
   "metadata": {},
   "source": [
    "#### Preliminary exploratory data analysis"
   ]
  },
  {
   "cell_type": "code",
   "execution_count": 1,
   "id": "fb2a52a5-d579-42e8-a40d-00e7f94eea55",
   "metadata": {},
   "outputs": [
    {
     "name": "stderr",
     "output_type": "stream",
     "text": [
      "Removing package from ‘/opt/conda/lib/R/library’\n",
      "(as ‘lib’ is unspecified)\n",
      "\n",
      "Updating HTML index of packages in '.Library'\n",
      "\n",
      "Making 'packages.html' ...\n",
      " done\n",
      "\n",
      "also installing the dependencies ‘cli’, ‘rlang’\n",
      "\n",
      "\n",
      "Updating HTML index of packages in '.Library'\n",
      "\n",
      "Making 'packages.html' ...\n",
      " done\n",
      "\n",
      "also installing the dependencies ‘pillar’, ‘tibble’, ‘dplyr’, ‘clock’, ‘tidyselect’, ‘vctrs’, ‘recipes’, ‘RANN’, ‘ROSE’\n",
      "\n",
      "\n",
      "Updating HTML index of packages in '.Library'\n",
      "\n",
      "Making 'packages.html' ...\n",
      " done\n",
      "\n",
      "also installing the dependency ‘reshape’\n",
      "\n",
      "\n",
      "Updating HTML index of packages in '.Library'\n",
      "\n",
      "Making 'packages.html' ...\n",
      " done\n",
      "\n",
      "Updating HTML index of packages in '.Library'\n",
      "\n",
      "Making 'packages.html' ...\n",
      " done\n",
      "\n"
     ]
    }
   ],
   "source": [
    "remove.packages(\"lifecycle\")\n",
    "install.packages(\"lifecycle\")\n",
    "install.packages(\"themis\")\n",
    "install.packages(\"GGally\")\n",
    "install.packages(\"kknn\")"
   ]
  },
  {
   "cell_type": "code",
   "execution_count": 1,
   "id": "47a511ed-236e-4a77-b4da-27b6ddc45898",
   "metadata": {},
   "outputs": [
    {
     "name": "stderr",
     "output_type": "stream",
     "text": [
      "\n",
      "Attaching package: ‘dplyr’\n",
      "\n",
      "\n",
      "The following objects are masked from ‘package:stats’:\n",
      "\n",
      "    filter, lag\n",
      "\n",
      "\n",
      "The following objects are masked from ‘package:base’:\n",
      "\n",
      "    intersect, setdiff, setequal, union\n",
      "\n",
      "\n",
      "Warning message:\n",
      "“package ‘tidymodels’ was built under R version 4.1.3”\n",
      "── \u001b[1mAttaching packages\u001b[22m ────────────────────────────────────── tidymodels 1.0.0 ──\n",
      "\n",
      "\u001b[32m✔\u001b[39m \u001b[34mbroom       \u001b[39m 1.0.0     \u001b[32m✔\u001b[39m \u001b[34mrsample     \u001b[39m 1.0.0\n",
      "\u001b[32m✔\u001b[39m \u001b[34mdials       \u001b[39m 1.0.0     \u001b[32m✔\u001b[39m \u001b[34mtibble      \u001b[39m 3.2.1\n",
      "\u001b[32m✔\u001b[39m \u001b[34mggplot2     \u001b[39m 3.3.6     \u001b[32m✔\u001b[39m \u001b[34mtidyr       \u001b[39m 1.2.0\n",
      "\u001b[32m✔\u001b[39m \u001b[34minfer       \u001b[39m 1.0.2     \u001b[32m✔\u001b[39m \u001b[34mtune        \u001b[39m 1.0.0\n",
      "\u001b[32m✔\u001b[39m \u001b[34mmodeldata   \u001b[39m 1.0.0     \u001b[32m✔\u001b[39m \u001b[34mworkflows   \u001b[39m 1.0.0\n",
      "\u001b[32m✔\u001b[39m \u001b[34mparsnip     \u001b[39m 1.0.0     \u001b[32m✔\u001b[39m \u001b[34mworkflowsets\u001b[39m 1.0.0\n",
      "\u001b[32m✔\u001b[39m \u001b[34mpurrr       \u001b[39m 0.3.4     \u001b[32m✔\u001b[39m \u001b[34myardstick   \u001b[39m 1.0.0\n",
      "\u001b[32m✔\u001b[39m \u001b[34mrecipes     \u001b[39m 1.0.5     \n",
      "\n",
      "Warning message:\n",
      "“package ‘broom’ was built under R version 4.1.3”\n",
      "Warning message:\n",
      "“package ‘dials’ was built under R version 4.1.3”\n",
      "Warning message:\n",
      "“package ‘scales’ was built under R version 4.1.3”\n",
      "Warning message:\n",
      "“package ‘ggplot2’ was built under R version 4.1.3”\n",
      "Warning message:\n",
      "“package ‘infer’ was built under R version 4.1.3”\n",
      "Warning message:\n",
      "“package ‘modeldata’ was built under R version 4.1.3”\n",
      "Warning message:\n",
      "“package ‘parsnip’ was built under R version 4.1.3”\n",
      "Warning message:\n",
      "“package ‘rsample’ was built under R version 4.1.3”\n",
      "Warning message:\n",
      "“package ‘tidyr’ was built under R version 4.1.2”\n",
      "Warning message:\n",
      "“package ‘tune’ was built under R version 4.1.3”\n",
      "Warning message:\n",
      "“package ‘workflows’ was built under R version 4.1.3”\n",
      "Warning message:\n",
      "“package ‘workflowsets’ was built under R version 4.1.3”\n",
      "Warning message:\n",
      "“package ‘yardstick’ was built under R version 4.1.3”\n",
      "── \u001b[1mConflicts\u001b[22m ───────────────────────────────────────── tidymodels_conflicts() ──\n",
      "\u001b[31m✖\u001b[39m \u001b[34mpurrr\u001b[39m::\u001b[32mdiscard()\u001b[39m masks \u001b[34mscales\u001b[39m::discard()\n",
      "\u001b[31m✖\u001b[39m \u001b[34mdplyr\u001b[39m::\u001b[32mfilter()\u001b[39m  masks \u001b[34mstats\u001b[39m::filter()\n",
      "\u001b[31m✖\u001b[39m \u001b[34mdplyr\u001b[39m::\u001b[32mlag()\u001b[39m     masks \u001b[34mstats\u001b[39m::lag()\n",
      "\u001b[31m✖\u001b[39m \u001b[34mrecipes\u001b[39m::\u001b[32mstep()\u001b[39m  masks \u001b[34mstats\u001b[39m::step()\n",
      "\u001b[34m•\u001b[39m Use \u001b[32mtidymodels_prefer()\u001b[39m to resolve common conflicts.\n",
      "\n",
      "── \u001b[1mAttaching packages\u001b[22m ─────────────────────────────────────── tidyverse 1.3.1 ──\n",
      "\n",
      "\u001b[32m✔\u001b[39m \u001b[34mreadr  \u001b[39m 2.1.2     \u001b[32m✔\u001b[39m \u001b[34mforcats\u001b[39m 0.5.1\n",
      "\u001b[32m✔\u001b[39m \u001b[34mstringr\u001b[39m 1.4.0     \n",
      "\n",
      "Warning message:\n",
      "“package ‘readr’ was built under R version 4.1.2”\n",
      "── \u001b[1mConflicts\u001b[22m ────────────────────────────────────────── tidyverse_conflicts() ──\n",
      "\u001b[31m✖\u001b[39m \u001b[34mreadr\u001b[39m::\u001b[32mcol_factor()\u001b[39m masks \u001b[34mscales\u001b[39m::col_factor()\n",
      "\u001b[31m✖\u001b[39m \u001b[34mpurrr\u001b[39m::\u001b[32mdiscard()\u001b[39m    masks \u001b[34mscales\u001b[39m::discard()\n",
      "\u001b[31m✖\u001b[39m \u001b[34mdplyr\u001b[39m::\u001b[32mfilter()\u001b[39m     masks \u001b[34mstats\u001b[39m::filter()\n",
      "\u001b[31m✖\u001b[39m \u001b[34mstringr\u001b[39m::\u001b[32mfixed()\u001b[39m    masks \u001b[34mrecipes\u001b[39m::fixed()\n",
      "\u001b[31m✖\u001b[39m \u001b[34mdplyr\u001b[39m::\u001b[32mlag()\u001b[39m        masks \u001b[34mstats\u001b[39m::lag()\n",
      "\u001b[31m✖\u001b[39m \u001b[34mreadr\u001b[39m::\u001b[32mspec()\u001b[39m       masks \u001b[34myardstick\u001b[39m::spec()\n",
      "\n",
      "Registered S3 method overwritten by 'GGally':\n",
      "  method from   \n",
      "  +.gg   ggplot2\n",
      "\n"
     ]
    }
   ],
   "source": [
    "library(dplyr)\n",
    "library(tidymodels)\n",
    "library(tidyverse)\n",
    "options(repr.matrix.max.rows = 6)\n",
    "library(themis)\n",
    "library(\"kknn\")\n",
    "library(GGally)"
   ]
  },
  {
   "cell_type": "markdown",
   "id": "8fa07e56-efa0-4fa8-9be7-2528a764b118",
   "metadata": {},
   "source": [
    "After loading in libraries, we first read in the red wine data, using the \"mutate\" and \"ifelse\" functions in conjunction to create a new column, distinguishing the wines as good or poor. The original dataset sets the threshold for a good wine at >6.5 and we followed this in our code. We called this new column \"new_quality\" to make it distinct from the existing \"quality\" column, and it only contains 0s and 1s to indicate the binary wine quality. In order to use total acidity as a predictor, we use the mutate function to combine the values of the two existing acidity columns. Finally, we removed white spaces from between the column names to be able to later call on them, tidying the data."
   ]
  },
  {
   "cell_type": "code",
   "execution_count": 16,
   "id": "f183b979-2dbc-4f3b-9723-2f840218b3a0",
   "metadata": {},
   "outputs": [
    {
     "name": "stderr",
     "output_type": "stream",
     "text": [
      "\u001b[1mRows: \u001b[22m\u001b[34m1599\u001b[39m \u001b[1mColumns: \u001b[22m\u001b[34m12\u001b[39m\n",
      "\u001b[36m──\u001b[39m \u001b[1mColumn specification\u001b[22m \u001b[36m────────────────────────────────────────────────────────\u001b[39m\n",
      "\u001b[1mDelimiter:\u001b[22m \",\"\n",
      "\u001b[32mdbl\u001b[39m (12): fixed acidity, volatile acidity, citric acid, residual sugar, chlo...\n",
      "\n",
      "\u001b[36mℹ\u001b[39m Use `spec()` to retrieve the full column specification for this data.\n",
      "\u001b[36mℹ\u001b[39m Specify the column types or set `show_col_types = FALSE` to quiet this message.\n"
     ]
    },
    {
     "data": {
      "text/html": [
       "<table class=\"dataframe\">\n",
       "<caption>A tibble: 1599 × 14</caption>\n",
       "<thead>\n",
       "\t<tr><th scope=col>fixed.acidity</th><th scope=col>volatile.acidity</th><th scope=col>citric.acid</th><th scope=col>residual.sugar</th><th scope=col>chlorides</th><th scope=col>free.sulfur.dioxide</th><th scope=col>total.sulfur.dioxide</th><th scope=col>density</th><th scope=col>pH</th><th scope=col>sulphates</th><th scope=col>alcohol</th><th scope=col>quality</th><th scope=col>new_quality</th><th scope=col>total.acidity</th></tr>\n",
       "\t<tr><th scope=col>&lt;dbl&gt;</th><th scope=col>&lt;dbl&gt;</th><th scope=col>&lt;dbl&gt;</th><th scope=col>&lt;dbl&gt;</th><th scope=col>&lt;dbl&gt;</th><th scope=col>&lt;dbl&gt;</th><th scope=col>&lt;dbl&gt;</th><th scope=col>&lt;dbl&gt;</th><th scope=col>&lt;dbl&gt;</th><th scope=col>&lt;dbl&gt;</th><th scope=col>&lt;dbl&gt;</th><th scope=col>&lt;dbl&gt;</th><th scope=col>&lt;fct&gt;</th><th scope=col>&lt;dbl&gt;</th></tr>\n",
       "</thead>\n",
       "<tbody>\n",
       "\t<tr><td>7.4</td><td>0.70</td><td>0.00</td><td>1.9</td><td>0.076</td><td>11</td><td>34</td><td>0.9978</td><td>3.51</td><td>0.56</td><td>9.4</td><td>5</td><td>0</td><td>8.10</td></tr>\n",
       "\t<tr><td>7.8</td><td>0.88</td><td>0.00</td><td>2.6</td><td>0.098</td><td>25</td><td>67</td><td>0.9968</td><td>3.20</td><td>0.68</td><td>9.8</td><td>5</td><td>0</td><td>8.68</td></tr>\n",
       "\t<tr><td>7.8</td><td>0.76</td><td>0.04</td><td>2.3</td><td>0.092</td><td>15</td><td>54</td><td>0.9970</td><td>3.26</td><td>0.65</td><td>9.8</td><td>5</td><td>0</td><td>8.56</td></tr>\n",
       "\t<tr><td>⋮</td><td>⋮</td><td>⋮</td><td>⋮</td><td>⋮</td><td>⋮</td><td>⋮</td><td>⋮</td><td>⋮</td><td>⋮</td><td>⋮</td><td>⋮</td><td>⋮</td><td>⋮</td></tr>\n",
       "\t<tr><td>6.3</td><td>0.510</td><td>0.13</td><td>2.3</td><td>0.076</td><td>29</td><td>40</td><td>0.99574</td><td>3.42</td><td>0.75</td><td>11.0</td><td>6</td><td>0</td><td>6.810</td></tr>\n",
       "\t<tr><td>5.9</td><td>0.645</td><td>0.12</td><td>2.0</td><td>0.075</td><td>32</td><td>44</td><td>0.99547</td><td>3.57</td><td>0.71</td><td>10.2</td><td>5</td><td>0</td><td>6.545</td></tr>\n",
       "\t<tr><td>6.0</td><td>0.310</td><td>0.47</td><td>3.6</td><td>0.067</td><td>18</td><td>42</td><td>0.99549</td><td>3.39</td><td>0.66</td><td>11.0</td><td>6</td><td>0</td><td>6.310</td></tr>\n",
       "</tbody>\n",
       "</table>\n"
      ],
      "text/latex": [
       "A tibble: 1599 × 14\n",
       "\\begin{tabular}{llllllllllllll}\n",
       " fixed.acidity & volatile.acidity & citric.acid & residual.sugar & chlorides & free.sulfur.dioxide & total.sulfur.dioxide & density & pH & sulphates & alcohol & quality & new\\_quality & total.acidity\\\\\n",
       " <dbl> & <dbl> & <dbl> & <dbl> & <dbl> & <dbl> & <dbl> & <dbl> & <dbl> & <dbl> & <dbl> & <dbl> & <fct> & <dbl>\\\\\n",
       "\\hline\n",
       "\t 7.4 & 0.70 & 0.00 & 1.9 & 0.076 & 11 & 34 & 0.9978 & 3.51 & 0.56 & 9.4 & 5 & 0 & 8.10\\\\\n",
       "\t 7.8 & 0.88 & 0.00 & 2.6 & 0.098 & 25 & 67 & 0.9968 & 3.20 & 0.68 & 9.8 & 5 & 0 & 8.68\\\\\n",
       "\t 7.8 & 0.76 & 0.04 & 2.3 & 0.092 & 15 & 54 & 0.9970 & 3.26 & 0.65 & 9.8 & 5 & 0 & 8.56\\\\\n",
       "\t ⋮ & ⋮ & ⋮ & ⋮ & ⋮ & ⋮ & ⋮ & ⋮ & ⋮ & ⋮ & ⋮ & ⋮ & ⋮ & ⋮\\\\\n",
       "\t 6.3 & 0.510 & 0.13 & 2.3 & 0.076 & 29 & 40 & 0.99574 & 3.42 & 0.75 & 11.0 & 6 & 0 & 6.810\\\\\n",
       "\t 5.9 & 0.645 & 0.12 & 2.0 & 0.075 & 32 & 44 & 0.99547 & 3.57 & 0.71 & 10.2 & 5 & 0 & 6.545\\\\\n",
       "\t 6.0 & 0.310 & 0.47 & 3.6 & 0.067 & 18 & 42 & 0.99549 & 3.39 & 0.66 & 11.0 & 6 & 0 & 6.310\\\\\n",
       "\\end{tabular}\n"
      ],
      "text/markdown": [
       "\n",
       "A tibble: 1599 × 14\n",
       "\n",
       "| fixed.acidity &lt;dbl&gt; | volatile.acidity &lt;dbl&gt; | citric.acid &lt;dbl&gt; | residual.sugar &lt;dbl&gt; | chlorides &lt;dbl&gt; | free.sulfur.dioxide &lt;dbl&gt; | total.sulfur.dioxide &lt;dbl&gt; | density &lt;dbl&gt; | pH &lt;dbl&gt; | sulphates &lt;dbl&gt; | alcohol &lt;dbl&gt; | quality &lt;dbl&gt; | new_quality &lt;fct&gt; | total.acidity &lt;dbl&gt; |\n",
       "|---|---|---|---|---|---|---|---|---|---|---|---|---|---|\n",
       "| 7.4 | 0.70 | 0.00 | 1.9 | 0.076 | 11 | 34 | 0.9978 | 3.51 | 0.56 | 9.4 | 5 | 0 | 8.10 |\n",
       "| 7.8 | 0.88 | 0.00 | 2.6 | 0.098 | 25 | 67 | 0.9968 | 3.20 | 0.68 | 9.8 | 5 | 0 | 8.68 |\n",
       "| 7.8 | 0.76 | 0.04 | 2.3 | 0.092 | 15 | 54 | 0.9970 | 3.26 | 0.65 | 9.8 | 5 | 0 | 8.56 |\n",
       "| ⋮ | ⋮ | ⋮ | ⋮ | ⋮ | ⋮ | ⋮ | ⋮ | ⋮ | ⋮ | ⋮ | ⋮ | ⋮ | ⋮ |\n",
       "| 6.3 | 0.510 | 0.13 | 2.3 | 0.076 | 29 | 40 | 0.99574 | 3.42 | 0.75 | 11.0 | 6 | 0 | 6.810 |\n",
       "| 5.9 | 0.645 | 0.12 | 2.0 | 0.075 | 32 | 44 | 0.99547 | 3.57 | 0.71 | 10.2 | 5 | 0 | 6.545 |\n",
       "| 6.0 | 0.310 | 0.47 | 3.6 | 0.067 | 18 | 42 | 0.99549 | 3.39 | 0.66 | 11.0 | 6 | 0 | 6.310 |\n",
       "\n"
      ],
      "text/plain": [
       "     fixed.acidity volatile.acidity citric.acid residual.sugar chlorides\n",
       "1    7.4           0.70             0.00        1.9            0.076    \n",
       "2    7.8           0.88             0.00        2.6            0.098    \n",
       "3    7.8           0.76             0.04        2.3            0.092    \n",
       "⋮    ⋮             ⋮                ⋮           ⋮              ⋮        \n",
       "1597 6.3           0.510            0.13        2.3            0.076    \n",
       "1598 5.9           0.645            0.12        2.0            0.075    \n",
       "1599 6.0           0.310            0.47        3.6            0.067    \n",
       "     free.sulfur.dioxide total.sulfur.dioxide density pH   sulphates alcohol\n",
       "1    11                  34                   0.9978  3.51 0.56      9.4    \n",
       "2    25                  67                   0.9968  3.20 0.68      9.8    \n",
       "3    15                  54                   0.9970  3.26 0.65      9.8    \n",
       "⋮    ⋮                   ⋮                    ⋮       ⋮    ⋮         ⋮      \n",
       "1597 29                  40                   0.99574 3.42 0.75      11.0   \n",
       "1598 32                  44                   0.99547 3.57 0.71      10.2   \n",
       "1599 18                  42                   0.99549 3.39 0.66      11.0   \n",
       "     quality new_quality total.acidity\n",
       "1    5       0           8.10         \n",
       "2    5       0           8.68         \n",
       "3    5       0           8.56         \n",
       "⋮    ⋮       ⋮           ⋮            \n",
       "1597 6       0           6.810        \n",
       "1598 5       0           6.545        \n",
       "1599 6       0           6.310        "
      ]
     },
     "metadata": {},
     "output_type": "display_data"
    }
   ],
   "source": [
    "options(repr.matrix.max.rows = 6)\n",
    "# TABLE 1.\n",
    "\n",
    "red_wine <- read_csv(\"data/winequality-red.csv\")|>\n",
    "    mutate(new_quality = ifelse(quality < 6.5, 0, 1)) |>\n",
    "    mutate(new_quality = as_factor(new_quality))\n",
    "\n",
    "colnames(red_wine) <- make.names(colnames(red_wine))\n",
    "\n",
    "red_wine <- red_wine |>\n",
    "    mutate(total.acidity = fixed.acidity + volatile.acidity)\n",
    "red_wine"
   ]
  },
  {
   "cell_type": "markdown",
   "id": "cc3b6157-66bc-498d-894d-cb482a3a45e2",
   "metadata": {},
   "source": [
    "Before we build our classifier, we can visualize and create tables for the original data to extract more information from it. We chose to create a simple ggpairs matrix to simultaneously observe the relationships between our chosen predictors and the binary wine quality. Since we are interested in how the quality varies with each predictor, we focussed on the *rightmost four graphs in the matrix*.\n",
    "\n",
    "Observing the graph of new quality v. total acidity, we noticed that wines falling in the \"good\" class or the 1 class had a higher mean total acidity. Observing the graphs for the other two predictors, good quality wines had a higher mean alcohol content and lower average pH. However, these averages have a small range, suggesting that the classifier will have some difficulty distinguishing between qualities.\n",
    "\n",
    "The proportion of good wines to poor wines in the bottom right bar graph shows that good wine is a minority class. This indicates that the data will have to be balanced or upscaled at some point in the analysis to avoid the classifier being biased towards the majority class - poor quality wine - when making predictions on the testing data.\n"
   ]
  },
  {
   "cell_type": "code",
   "execution_count": 18,
   "id": "9af00e34-6603-40fe-8112-d2bcb2107ad7",
   "metadata": {
    "lines_to_next_cell": 2
   },
   "outputs": [
    {
     "name": "stderr",
     "output_type": "stream",
     "text": [
      "`stat_bin()` using `bins = 30`. Pick better value with `binwidth`.\n",
      "\n",
      "`stat_bin()` using `bins = 30`. Pick better value with `binwidth`.\n",
      "\n",
      "`stat_bin()` using `bins = 30`. Pick better value with `binwidth`.\n",
      "\n"
     ]
    },
    {
     "data": {
      "image/png": "[encoded data removed]",
      "text/plain": [
       "plot without title"
      ]
     },
     "metadata": {
      "image/png": {
       "height": 720,
       "width": 720
      }
     },
     "output_type": "display_data"
    }
   ],
   "source": [
    "options(repr.plot.height = 12, repr.plot.width = 12)\n",
    "\n",
    "my_ggpairs <- ggpairs(red_wine, columns = c(\"total.acidity\", \"pH\", \"alcohol\", \"new_quality\")) + \n",
    "    ggtitle(\"Matrix of Red Wine Predictors\")+\n",
    "    theme(plot.title = element_text(size = 20))\n",
    "my_ggpairs\n",
    "\n",
    "# FIGURE 1."
   ]
  },
  {
   "cell_type": "markdown",
   "id": "8b03703c-5951-409c-90bd-bd7067b380cd",
   "metadata": {},
   "source": [
    "We then created three more informative tibbles. The first of these shows the mean values of each predictor which, though not explicitly relevant, shows that the predictors have different scales and that they will need to be normalized to create a reliable classifier. The second tibble shows the exact proportion of poor to good wines, good wines making up only 13.5% of the dataset - further indication that we should balance it. Finally, we determine that there are no missing values in the dataset. "
   ]
  },
  {
   "cell_type": "code",
   "execution_count": 19,
   "id": "4d0b3536-4aec-43e9-8ca8-6bf7dd84db41",
   "metadata": {},
   "outputs": [
    {
     "data": {
      "text/html": [
       "<table class=\"dataframe\">\n",
       "<caption>A tibble: 1 × 12</caption>\n",
       "<thead>\n",
       "\t<tr><th scope=col>fixed.acidity</th><th scope=col>volatile.acidity</th><th scope=col>citric.acid</th><th scope=col>residual.sugar</th><th scope=col>chlorides</th><th scope=col>free.sulfur.dioxide</th><th scope=col>total.sulfur.dioxide</th><th scope=col>density</th><th scope=col>pH</th><th scope=col>sulphates</th><th scope=col>alcohol</th><th scope=col>total.acidity</th></tr>\n",
       "\t<tr><th scope=col>&lt;dbl&gt;</th><th scope=col>&lt;dbl&gt;</th><th scope=col>&lt;dbl&gt;</th><th scope=col>&lt;dbl&gt;</th><th scope=col>&lt;dbl&gt;</th><th scope=col>&lt;dbl&gt;</th><th scope=col>&lt;dbl&gt;</th><th scope=col>&lt;dbl&gt;</th><th scope=col>&lt;dbl&gt;</th><th scope=col>&lt;dbl&gt;</th><th scope=col>&lt;dbl&gt;</th><th scope=col>&lt;dbl&gt;</th></tr>\n",
       "</thead>\n",
       "<tbody>\n",
       "\t<tr><td>8.319637</td><td>0.5278205</td><td>0.2709756</td><td>2.538806</td><td>0.08746654</td><td>15.87492</td><td>46.46779</td><td>0.9967467</td><td>3.311113</td><td>0.6581488</td><td>10.42298</td><td>8.847458</td></tr>\n",
       "</tbody>\n",
       "</table>\n"
      ],
      "text/latex": [
       "A tibble: 1 × 12\n",
       "\\begin{tabular}{llllllllllll}\n",
       " fixed.acidity & volatile.acidity & citric.acid & residual.sugar & chlorides & free.sulfur.dioxide & total.sulfur.dioxide & density & pH & sulphates & alcohol & total.acidity\\\\\n",
       " <dbl> & <dbl> & <dbl> & <dbl> & <dbl> & <dbl> & <dbl> & <dbl> & <dbl> & <dbl> & <dbl> & <dbl>\\\\\n",
       "\\hline\n",
       "\t 8.319637 & 0.5278205 & 0.2709756 & 2.538806 & 0.08746654 & 15.87492 & 46.46779 & 0.9967467 & 3.311113 & 0.6581488 & 10.42298 & 8.847458\\\\\n",
       "\\end{tabular}\n"
      ],
      "text/markdown": [
       "\n",
       "A tibble: 1 × 12\n",
       "\n",
       "| fixed.acidity &lt;dbl&gt; | volatile.acidity &lt;dbl&gt; | citric.acid &lt;dbl&gt; | residual.sugar &lt;dbl&gt; | chlorides &lt;dbl&gt; | free.sulfur.dioxide &lt;dbl&gt; | total.sulfur.dioxide &lt;dbl&gt; | density &lt;dbl&gt; | pH &lt;dbl&gt; | sulphates &lt;dbl&gt; | alcohol &lt;dbl&gt; | total.acidity &lt;dbl&gt; |\n",
       "|---|---|---|---|---|---|---|---|---|---|---|---|\n",
       "| 8.319637 | 0.5278205 | 0.2709756 | 2.538806 | 0.08746654 | 15.87492 | 46.46779 | 0.9967467 | 3.311113 | 0.6581488 | 10.42298 | 8.847458 |\n",
       "\n"
      ],
      "text/plain": [
       "  fixed.acidity volatile.acidity citric.acid residual.sugar chlorides \n",
       "1 8.319637      0.5278205        0.2709756   2.538806       0.08746654\n",
       "  free.sulfur.dioxide total.sulfur.dioxide density   pH       sulphates\n",
       "1 15.87492            46.46779             0.9967467 3.311113 0.6581488\n",
       "  alcohol  total.acidity\n",
       "1 10.42298 8.847458     "
      ]
     },
     "metadata": {},
     "output_type": "display_data"
    },
    {
     "data": {
      "text/html": [
       "<table class=\"dataframe\">\n",
       "<caption>A tibble: 2 × 2</caption>\n",
       "<thead>\n",
       "\t<tr><th scope=col>new_quality</th><th scope=col>count</th></tr>\n",
       "\t<tr><th scope=col>&lt;fct&gt;</th><th scope=col>&lt;int&gt;</th></tr>\n",
       "</thead>\n",
       "<tbody>\n",
       "\t<tr><td>0</td><td>1382</td></tr>\n",
       "\t<tr><td>1</td><td> 217</td></tr>\n",
       "</tbody>\n",
       "</table>\n"
      ],
      "text/latex": [
       "A tibble: 2 × 2\n",
       "\\begin{tabular}{ll}\n",
       " new\\_quality & count\\\\\n",
       " <fct> & <int>\\\\\n",
       "\\hline\n",
       "\t 0 & 1382\\\\\n",
       "\t 1 &  217\\\\\n",
       "\\end{tabular}\n"
      ],
      "text/markdown": [
       "\n",
       "A tibble: 2 × 2\n",
       "\n",
       "| new_quality &lt;fct&gt; | count &lt;int&gt; |\n",
       "|---|---|\n",
       "| 0 | 1382 |\n",
       "| 1 |  217 |\n",
       "\n"
      ],
      "text/plain": [
       "  new_quality count\n",
       "1 0           1382 \n",
       "2 1            217 "
      ]
     },
     "metadata": {},
     "output_type": "display_data"
    },
    {
     "data": {
      "text/html": [
       "<table class=\"dataframe\">\n",
       "<caption>A tibble: 1 × 1</caption>\n",
       "<thead>\n",
       "\t<tr><th scope=col>empty_rows</th></tr>\n",
       "\t<tr><th scope=col>&lt;int&gt;</th></tr>\n",
       "</thead>\n",
       "<tbody>\n",
       "\t<tr><td>0</td></tr>\n",
       "</tbody>\n",
       "</table>\n"
      ],
      "text/latex": [
       "A tibble: 1 × 1\n",
       "\\begin{tabular}{l}\n",
       " empty\\_rows\\\\\n",
       " <int>\\\\\n",
       "\\hline\n",
       "\t 0\\\\\n",
       "\\end{tabular}\n"
      ],
      "text/markdown": [
       "\n",
       "A tibble: 1 × 1\n",
       "\n",
       "| empty_rows &lt;int&gt; |\n",
       "|---|\n",
       "| 0 |\n",
       "\n"
      ],
      "text/plain": [
       "  empty_rows\n",
       "1 0         "
      ]
     },
     "metadata": {},
     "output_type": "display_data"
    }
   ],
   "source": [
    "red_wine_quality_count <- red_wine |>\n",
    "    group_by(new_quality) |>\n",
    "    summarize(count = n())\n",
    "\n",
    "missing_data <- red_wine |>\n",
    "    summarize(empty_rows = sum(is.na(\" \")))\n",
    "\n",
    "red_wine_mean <- red_wine |>\n",
    "    select(-quality, -new_quality) |>\n",
    "    summarize(across(fixed.acidity:total.acidity, mean))\n",
    "\n",
    "red_wine_mean\n",
    "red_wine_quality_count\n",
    "missing_data\n",
    "\n",
    "# TABLES 2. 3. and 4."
   ]
  },
  {
   "cell_type": "markdown",
   "id": "a79297f0-828a-4522-9bc3-192839fdf5bb",
   "metadata": {},
   "source": [
    "#### Model Analysis"
   ]
  },
  {
   "cell_type": "markdown",
   "id": "d39cbb31-0bd9-4037-a3a3-0fee21d35ddb",
   "metadata": {},
   "source": [
    "To train the k-means classifier, we split the mutated red wine data into 75% training and 25% testing data. We specified that the class on which to base the splitting was new_quality, as this is the class we will be working with. In order to make our code reproducible, we set a seed at the beginning, ensuring that the same random numbers are considered for outputs."
   ]
  },
  {
   "cell_type": "code",
   "execution_count": 5,
   "id": "9f66bb54-d832-45ef-b9a9-60eda99365a7",
   "metadata": {
    "lines_to_next_cell": 2
   },
   "outputs": [],
   "source": [
    "set.seed(1930)\n",
    "red_wine_split <- initial_split(red_wine, prop = 0.75, strata = new_quality)\n",
    "\n",
    "red_wine_train <- training(red_wine_split)\n",
    "\n",
    "red_wine_test <- testing(red_wine_split)"
   ]
  },
  {
   "cell_type": "markdown",
   "id": "c2a7cec3-c631-4e48-a387-e57e45daa7e0",
   "metadata": {},
   "source": [
    "To justify the parameters we chose, we ran the cross validation process for each individual predictor, producing model accuracies of 85.15%, 86.31%, and 86.31% for total acidity, pH, and alcohol content respectively. As these percentages are quite high and close together, we chose to use all three in our model to yield the highest accuracy possible (our final model being 87.78% accurate). Due to excessive code repetition, we did not show this process to avoid cluttering the report.\n",
    "\n",
    "With the split data, we created a recipe for the training data with the three predictors. We scaled and centered all the predictors in the recipe to ensure that each has an equal influence over the model and upsampled the underrepresented wine class to prevent the classifier from overrepresenting \"poor\" quality wines and making inaccurate predictions.\n",
    "\n",
    "We then created a knn model for classification and set the neighbors to tune(), since we needed to optimize the *k* value for the final model. The number of neighbors considered in the cross validation will be from 1-10, sequentially."
   ]
  },
  {
   "cell_type": "code",
   "execution_count": 11,
   "id": "14052af0-37ba-4f27-ae60-88fc5c98d3ab",
   "metadata": {},
   "outputs": [],
   "source": [
    "set.seed(1930)\n",
    "\n",
    "wine_recipe <- recipe(new_quality~ alcohol + total.acidity + pH, data = red_wine_train) |>\n",
    "    step_scale(all_predictors()) |>\n",
    "    step_center(all_predictors()) |> \n",
    "    step_upsample(new_quality, over_ratio = 1, skip = FALSE)\n",
    "\n",
    "wine_upscaled <- wine_recipe |>\n",
    "    prep() |>\n",
    "    bake(red_wine_train)\n",
    "\n",
    "wine_recipe_upscaled <- recipe(new_quality~ alcohol + total.acidity + pH, data = wine_upscaled)\n",
    "\n",
    "knn_tune <- nearest_neighbor(weight_func = \"rectangular\", neighbors = tune()) |>\n",
    "    set_engine(\"kknn\") |>\n",
    "    set_mode(\"classification\")\n",
    "\n",
    "wine_vfold <- vfold_cv(red_wine_train, v = 10, strata = new_quality)\n",
    "\n",
    "kvals <- tibble(neighbors = seq(1,10))"
   ]
  },
  {
   "cell_type": "markdown",
   "id": "ed9c6775-22e2-4c12-a65c-7592efa45460",
   "metadata": {},
   "source": [
    "With the recipe and model created, we passed them into the workflow and generated results for various mean accuracies corresponding to various neighbors. To determine the optimal k, we created a plot of the mean vs. neighbors, identifying this value of k to be 9."
   ]
  },
  {
   "cell_type": "code",
   "execution_count": 12,
   "id": "772343c7-b9d2-4b59-b622-1e800c2fa935",
   "metadata": {},
   "outputs": [
    {
     "data": {
      "text/html": [
       "<table class=\"dataframe\">\n",
       "<caption>A tibble: 10 × 7</caption>\n",
       "<thead>\n",
       "\t<tr><th scope=col>neighbors</th><th scope=col>.metric</th><th scope=col>.estimator</th><th scope=col>mean</th><th scope=col>n</th><th scope=col>std_err</th><th scope=col>.config</th></tr>\n",
       "\t<tr><th scope=col>&lt;int&gt;</th><th scope=col>&lt;chr&gt;</th><th scope=col>&lt;chr&gt;</th><th scope=col>&lt;dbl&gt;</th><th scope=col>&lt;int&gt;</th><th scope=col>&lt;dbl&gt;</th><th scope=col>&lt;chr&gt;</th></tr>\n",
       "</thead>\n",
       "<tbody>\n",
       "\t<tr><td> 9</td><td>accuracy</td><td>binary</td><td>0.8680635</td><td>10</td><td>0.006432345</td><td>Preprocessor1_Model09</td></tr>\n",
       "\t<tr><td>10</td><td>accuracy</td><td>binary</td><td>0.8680635</td><td>10</td><td>0.006432345</td><td>Preprocessor1_Model10</td></tr>\n",
       "\t<tr><td> 1</td><td>accuracy</td><td>binary</td><td>0.8655916</td><td>10</td><td>0.005661756</td><td>Preprocessor1_Model01</td></tr>\n",
       "\t<tr><td>⋮</td><td>⋮</td><td>⋮</td><td>⋮</td><td>⋮</td><td>⋮</td><td>⋮</td></tr>\n",
       "\t<tr><td>8</td><td>accuracy</td><td>binary</td><td>0.8613476</td><td>10</td><td>0.009488249</td><td>Preprocessor1_Model08</td></tr>\n",
       "\t<tr><td>3</td><td>accuracy</td><td>binary</td><td>0.8588620</td><td>10</td><td>0.008968396</td><td>Preprocessor1_Model03</td></tr>\n",
       "\t<tr><td>4</td><td>accuracy</td><td>binary</td><td>0.8588620</td><td>10</td><td>0.008968396</td><td>Preprocessor1_Model04</td></tr>\n",
       "</tbody>\n",
       "</table>\n"
      ],
      "text/latex": [
       "A tibble: 10 × 7\n",
       "\\begin{tabular}{lllllll}\n",
       " neighbors & .metric & .estimator & mean & n & std\\_err & .config\\\\\n",
       " <int> & <chr> & <chr> & <dbl> & <int> & <dbl> & <chr>\\\\\n",
       "\\hline\n",
       "\t  9 & accuracy & binary & 0.8680635 & 10 & 0.006432345 & Preprocessor1\\_Model09\\\\\n",
       "\t 10 & accuracy & binary & 0.8680635 & 10 & 0.006432345 & Preprocessor1\\_Model10\\\\\n",
       "\t  1 & accuracy & binary & 0.8655916 & 10 & 0.005661756 & Preprocessor1\\_Model01\\\\\n",
       "\t ⋮ & ⋮ & ⋮ & ⋮ & ⋮ & ⋮ & ⋮\\\\\n",
       "\t 8 & accuracy & binary & 0.8613476 & 10 & 0.009488249 & Preprocessor1\\_Model08\\\\\n",
       "\t 3 & accuracy & binary & 0.8588620 & 10 & 0.008968396 & Preprocessor1\\_Model03\\\\\n",
       "\t 4 & accuracy & binary & 0.8588620 & 10 & 0.008968396 & Preprocessor1\\_Model04\\\\\n",
       "\\end{tabular}\n"
      ],
      "text/markdown": [
       "\n",
       "A tibble: 10 × 7\n",
       "\n",
       "| neighbors &lt;int&gt; | .metric &lt;chr&gt; | .estimator &lt;chr&gt; | mean &lt;dbl&gt; | n &lt;int&gt; | std_err &lt;dbl&gt; | .config &lt;chr&gt; |\n",
       "|---|---|---|---|---|---|---|\n",
       "|  9 | accuracy | binary | 0.8680635 | 10 | 0.006432345 | Preprocessor1_Model09 |\n",
       "| 10 | accuracy | binary | 0.8680635 | 10 | 0.006432345 | Preprocessor1_Model10 |\n",
       "|  1 | accuracy | binary | 0.8655916 | 10 | 0.005661756 | Preprocessor1_Model01 |\n",
       "| ⋮ | ⋮ | ⋮ | ⋮ | ⋮ | ⋮ | ⋮ |\n",
       "| 8 | accuracy | binary | 0.8613476 | 10 | 0.009488249 | Preprocessor1_Model08 |\n",
       "| 3 | accuracy | binary | 0.8588620 | 10 | 0.008968396 | Preprocessor1_Model03 |\n",
       "| 4 | accuracy | binary | 0.8588620 | 10 | 0.008968396 | Preprocessor1_Model04 |\n",
       "\n"
      ],
      "text/plain": [
       "   neighbors .metric  .estimator mean      n  std_err     .config              \n",
       "1   9        accuracy binary     0.8680635 10 0.006432345 Preprocessor1_Model09\n",
       "2  10        accuracy binary     0.8680635 10 0.006432345 Preprocessor1_Model10\n",
       "3   1        accuracy binary     0.8655916 10 0.005661756 Preprocessor1_Model01\n",
       "⋮  ⋮         ⋮        ⋮          ⋮         ⋮  ⋮           ⋮                    \n",
       "8  8         accuracy binary     0.8613476 10 0.009488249 Preprocessor1_Model08\n",
       "9  3         accuracy binary     0.8588620 10 0.008968396 Preprocessor1_Model03\n",
       "10 4         accuracy binary     0.8588620 10 0.008968396 Preprocessor1_Model04"
      ]
     },
     "metadata": {},
     "output_type": "display_data"
    },
    {
     "data": {
      "image/png": "[encoded data removed]",
      "text/plain": [
       "plot without title"
      ]
     },
     "metadata": {
      "image/png": {
       "height": 720,
       "width": 720
      }
     },
     "output_type": "display_data"
    }
   ],
   "source": [
    "set.seed(1930)\n",
    "options(repr.max.plot.width = 6, repr.max.plot.height = 6)\n",
    "\n",
    "\n",
    "wine_results <- workflow() |>\n",
    "    add_recipe(wine_recipe_upscaled) |>\n",
    "    add_model(knn_tune) |>\n",
    "    tune_grid(resamples = wine_vfold, grid = kvals) |>\n",
    "    collect_metrics() |>\n",
    "    filter(.metric == \"accuracy\")|>\n",
    "    arrange(desc(mean))\n",
    "\n",
    "accuracy_versus_k <- ggplot(wine_results, aes(x = neighbors, y = mean))+\n",
    "       geom_point() +\n",
    "       geom_line() +\n",
    "       labs(x = \"Neighbors\", y = \"Accuracy Estimate\")\n",
    "\n",
    "accuracy_versus_k\n",
    "wine_results\n",
    "\n",
    "#TABLE 5.\n",
    "#FIGURE 5. "
   ]
  },
  {
   "cell_type": "markdown",
   "id": "006427ad-47cd-415b-a2d8-024d43d34041",
   "metadata": {},
   "source": [
    "Having our optimal k, we recreated our classification model, fitting the recipe and model to our training data after passing it through the workflow. The testing data was then used to generate accuracy metrics, including a confusion matrix. With this, our final classifier has a reasonable accuracy of 87.78% using k = 9."
   ]
  },
  {
   "cell_type": "code",
   "execution_count": 13,
   "id": "afe8a6a3-c2f6-4fa9-861a-e77bd752a3c1",
   "metadata": {},
   "outputs": [
    {
     "data": {
      "text/html": [
       "<table class=\"dataframe\">\n",
       "<caption>A tibble: 2 × 3</caption>\n",
       "<thead>\n",
       "\t<tr><th scope=col>.metric</th><th scope=col>.estimator</th><th scope=col>.estimate</th></tr>\n",
       "\t<tr><th scope=col>&lt;chr&gt;</th><th scope=col>&lt;chr&gt;</th><th scope=col>&lt;dbl&gt;</th></tr>\n",
       "</thead>\n",
       "<tbody>\n",
       "\t<tr><td>accuracy</td><td>binary</td><td>0.8778055</td></tr>\n",
       "\t<tr><td>kap     </td><td>binary</td><td>0.3617346</td></tr>\n",
       "</tbody>\n",
       "</table>\n"
      ],
      "text/latex": [
       "A tibble: 2 × 3\n",
       "\\begin{tabular}{lll}\n",
       " .metric & .estimator & .estimate\\\\\n",
       " <chr> & <chr> & <dbl>\\\\\n",
       "\\hline\n",
       "\t accuracy & binary & 0.8778055\\\\\n",
       "\t kap      & binary & 0.3617346\\\\\n",
       "\\end{tabular}\n"
      ],
      "text/markdown": [
       "\n",
       "A tibble: 2 × 3\n",
       "\n",
       "| .metric &lt;chr&gt; | .estimator &lt;chr&gt; | .estimate &lt;dbl&gt; |\n",
       "|---|---|---|\n",
       "| accuracy | binary | 0.8778055 |\n",
       "| kap      | binary | 0.3617346 |\n",
       "\n"
      ],
      "text/plain": [
       "  .metric  .estimator .estimate\n",
       "1 accuracy binary     0.8778055\n",
       "2 kap      binary     0.3617346"
      ]
     },
     "metadata": {},
     "output_type": "display_data"
    },
    {
     "data": {
      "text/plain": [
       "          Truth\n",
       "Prediction   0   1\n",
       "         0 334  37\n",
       "         1  12  18"
      ]
     },
     "metadata": {},
     "output_type": "display_data"
    }
   ],
   "source": [
    "knn_2 <- nearest_neighbor(weight_func = \"rectangular\", neighbors = 9) |>\n",
    "    set_engine(\"kknn\") |>\n",
    "    set_mode(\"classification\")\n",
    "\n",
    "wine_fit <- workflow() |>\n",
    "       add_recipe(wine_recipe_upscaled) |>\n",
    "       add_model(knn_2) |>\n",
    "       fit(data = red_wine_train)\n",
    "\n",
    "wine_test_predictions <- predict(wine_fit, red_wine_test) |>\n",
    "       bind_cols(red_wine_test) |>\n",
    "       metrics(truth = new_quality, estimate = .pred_class) \n",
    "\n",
    "wine_mat <- predict(wine_fit, red_wine_test) |>\n",
    "       bind_cols(red_wine_test) |> \n",
    "       conf_mat(truth = new_quality, estimate = .pred_class)\n",
    "\n",
    "wine_test_predictions\n",
    "wine_mat\n",
    "\n",
    "#TABLE 6."
   ]
  },
  {
   "cell_type": "markdown",
   "id": "9737501b-662d-4621-9d36-ae4f83d6aedc",
   "metadata": {},
   "source": [
    "We successfully built a reliable, binary classifier and can use this to predict the qualities of external wines.[2][3][4] For variety, we selected fifteen cheap, medium-priced, and expensive wines from different websites, taking their predictor details and creating new observations. We then bound them into a data frame and passed it through predict().\n",
    "\n",
    "The criteria for a cheap, medium, and expensive is <100, 100-1000, and >1000 dollars respectively.\n",
    "\n",
    "\n",
    "- 14 Hands Hot to Trot Red Blend 2018: **\\$9** \n",
    "- Bodega Norton 1895 Mendoza 2019: **\\$10**\n",
    "- Bogle Vineyards Merlot: **\\$11**\n",
    "- Bogle Vineyards Essential Red Blend: **\\$12**\n",
    "- Bogle Vineyards Old Vine Zinfandel: **\\$12**\n",
    "- Bin 28 Shiraz 2020: **\\$50** (14.5, 3.59, 6.8)\n",
    "- Bin 389 Cabernet Sauvignon Shiraz 2019: **\\$100**\n",
    "- Magill Estate Shiraz 2016: **\\$150**\n",
    "- St. Henri Shiraz 2019: **\\$165**\n",
    "- Ridge Vineyards Monte Bello 2017: **\\$479**\n",
    "- Grange 2015 Magnum: **\\$1,099**\n",
    "- Grange 2017: **\\$1,175**\n",
    "- Grange 2010: **\\$1,175**\n",
    "- Superblend 802.B Cabernet Shiraz 2018 Magnum: **\\$2,250**\n",
    "- Grange 2016: **\\$3,500**"
   ]
  },
  {
   "cell_type": "code",
   "execution_count": 14,
   "id": "ca460f9c-ce43-4dc3-81a8-2ebfdb8eaae2",
   "metadata": {},
   "outputs": [
    {
     "data": {
      "text/html": [
       "<table class=\"dataframe\">\n",
       "<caption>A data.frame: 15 × 5</caption>\n",
       "<thead>\n",
       "\t<tr><th scope=col>name</th><th scope=col>price</th><th scope=col>alcohol</th><th scope=col>pH</th><th scope=col>total.acidity</th></tr>\n",
       "\t<tr><th scope=col>&lt;chr&gt;</th><th scope=col>&lt;dbl&gt;</th><th scope=col>&lt;dbl&gt;</th><th scope=col>&lt;dbl&gt;</th><th scope=col>&lt;dbl&gt;</th></tr>\n",
       "</thead>\n",
       "<tbody>\n",
       "\t<tr><td>14 Hands Hot to Trot Red Blend        </td><td>   9</td><td>13.5</td><td>3.77</td><td>5.30</td></tr>\n",
       "\t<tr><td>Bodega Norton 1895 Mendoza 2019       </td><td>  10</td><td>13.4</td><td>3.41</td><td>5.32</td></tr>\n",
       "\t<tr><td>Bogle Vineyards Merlot                </td><td>  11</td><td>14.5</td><td>3.61</td><td>5.00</td></tr>\n",
       "\t<tr><td>Bogle Vineyards Essential Red Blend   </td><td>  12</td><td>14.5</td><td>3.65</td><td>5.60</td></tr>\n",
       "\t<tr><td>Bogle Vineyards Old Vine Zinfandel    </td><td>  12</td><td>14.5</td><td>3.66</td><td>5.50</td></tr>\n",
       "\t<tr><td>Bin 28 Shiraz 2020                    </td><td>  50</td><td>14.5</td><td>3.59</td><td>6.80</td></tr>\n",
       "\t<tr><td>Bin 389 Cabernet Sauvignon Shiraz 2019</td><td> 100</td><td>14.5</td><td>3.59</td><td>6.70</td></tr>\n",
       "\t<tr><td>Magill Estate Shiraz 2016             </td><td> 150</td><td>14.5</td><td>3.68</td><td>6.80</td></tr>\n",
       "\t<tr><td>St. Henri Shiraz 2019                 </td><td> 165</td><td>14.5</td><td>3.62</td><td>6.60</td></tr>\n",
       "\t<tr><td>Ridge Vineyards Monte Bello 2017      </td><td> 479</td><td>13.7</td><td>3.48</td><td>7.42</td></tr>\n",
       "\t<tr><td>Grange 2015 Magnum                    </td><td>1099</td><td>14.5</td><td>3.62</td><td>6.70</td></tr>\n",
       "\t<tr><td>Grange 2017                           </td><td>1175</td><td>14.5</td><td>3.63</td><td>7.30</td></tr>\n",
       "\t<tr><td>Grange 2010                           </td><td>2250</td><td>14.5</td><td>3.61</td><td>7.00</td></tr>\n",
       "\t<tr><td>Superblend Cabernet Shiraz 2018 Magnum</td><td>2250</td><td>14.5</td><td>3.57</td><td>6.90</td></tr>\n",
       "\t<tr><td>Grange 2016                           </td><td>3500</td><td>14.5</td><td>3.60</td><td>7.10</td></tr>\n",
       "</tbody>\n",
       "</table>\n"
      ],
      "text/latex": [
       "A data.frame: 15 × 5\n",
       "\\begin{tabular}{lllll}\n",
       " name & price & alcohol & pH & total.acidity\\\\\n",
       " <chr> & <dbl> & <dbl> & <dbl> & <dbl>\\\\\n",
       "\\hline\n",
       "\t 14 Hands Hot to Trot Red Blend         &    9 & 13.5 & 3.77 & 5.30\\\\\n",
       "\t Bodega Norton 1895 Mendoza 2019        &   10 & 13.4 & 3.41 & 5.32\\\\\n",
       "\t Bogle Vineyards Merlot                 &   11 & 14.5 & 3.61 & 5.00\\\\\n",
       "\t Bogle Vineyards Essential Red Blend    &   12 & 14.5 & 3.65 & 5.60\\\\\n",
       "\t Bogle Vineyards Old Vine Zinfandel     &   12 & 14.5 & 3.66 & 5.50\\\\\n",
       "\t Bin 28 Shiraz 2020                     &   50 & 14.5 & 3.59 & 6.80\\\\\n",
       "\t Bin 389 Cabernet Sauvignon Shiraz 2019 &  100 & 14.5 & 3.59 & 6.70\\\\\n",
       "\t Magill Estate Shiraz 2016              &  150 & 14.5 & 3.68 & 6.80\\\\\n",
       "\t St. Henri Shiraz 2019                  &  165 & 14.5 & 3.62 & 6.60\\\\\n",
       "\t Ridge Vineyards Monte Bello 2017       &  479 & 13.7 & 3.48 & 7.42\\\\\n",
       "\t Grange 2015 Magnum                     & 1099 & 14.5 & 3.62 & 6.70\\\\\n",
       "\t Grange 2017                            & 1175 & 14.5 & 3.63 & 7.30\\\\\n",
       "\t Grange 2010                            & 2250 & 14.5 & 3.61 & 7.00\\\\\n",
       "\t Superblend Cabernet Shiraz 2018 Magnum & 2250 & 14.5 & 3.57 & 6.90\\\\\n",
       "\t Grange 2016                            & 3500 & 14.5 & 3.60 & 7.10\\\\\n",
       "\\end{tabular}\n"
      ],
      "text/markdown": [
       "\n",
       "A data.frame: 15 × 5\n",
       "\n",
       "| name &lt;chr&gt; | price &lt;dbl&gt; | alcohol &lt;dbl&gt; | pH &lt;dbl&gt; | total.acidity &lt;dbl&gt; |\n",
       "|---|---|---|---|---|\n",
       "| 14 Hands Hot to Trot Red Blend         |    9 | 13.5 | 3.77 | 5.30 |\n",
       "| Bodega Norton 1895 Mendoza 2019        |   10 | 13.4 | 3.41 | 5.32 |\n",
       "| Bogle Vineyards Merlot                 |   11 | 14.5 | 3.61 | 5.00 |\n",
       "| Bogle Vineyards Essential Red Blend    |   12 | 14.5 | 3.65 | 5.60 |\n",
       "| Bogle Vineyards Old Vine Zinfandel     |   12 | 14.5 | 3.66 | 5.50 |\n",
       "| Bin 28 Shiraz 2020                     |   50 | 14.5 | 3.59 | 6.80 |\n",
       "| Bin 389 Cabernet Sauvignon Shiraz 2019 |  100 | 14.5 | 3.59 | 6.70 |\n",
       "| Magill Estate Shiraz 2016              |  150 | 14.5 | 3.68 | 6.80 |\n",
       "| St. Henri Shiraz 2019                  |  165 | 14.5 | 3.62 | 6.60 |\n",
       "| Ridge Vineyards Monte Bello 2017       |  479 | 13.7 | 3.48 | 7.42 |\n",
       "| Grange 2015 Magnum                     | 1099 | 14.5 | 3.62 | 6.70 |\n",
       "| Grange 2017                            | 1175 | 14.5 | 3.63 | 7.30 |\n",
       "| Grange 2010                            | 2250 | 14.5 | 3.61 | 7.00 |\n",
       "| Superblend Cabernet Shiraz 2018 Magnum | 2250 | 14.5 | 3.57 | 6.90 |\n",
       "| Grange 2016                            | 3500 | 14.5 | 3.60 | 7.10 |\n",
       "\n"
      ],
      "text/plain": [
       "   name                                   price alcohol pH   total.acidity\n",
       "1  14 Hands Hot to Trot Red Blend            9  13.5    3.77 5.30         \n",
       "2  Bodega Norton 1895 Mendoza 2019          10  13.4    3.41 5.32         \n",
       "3  Bogle Vineyards Merlot                   11  14.5    3.61 5.00         \n",
       "4  Bogle Vineyards Essential Red Blend      12  14.5    3.65 5.60         \n",
       "5  Bogle Vineyards Old Vine Zinfandel       12  14.5    3.66 5.50         \n",
       "6  Bin 28 Shiraz 2020                       50  14.5    3.59 6.80         \n",
       "7  Bin 389 Cabernet Sauvignon Shiraz 2019  100  14.5    3.59 6.70         \n",
       "8  Magill Estate Shiraz 2016               150  14.5    3.68 6.80         \n",
       "9  St. Henri Shiraz 2019                   165  14.5    3.62 6.60         \n",
       "10 Ridge Vineyards Monte Bello 2017        479  13.7    3.48 7.42         \n",
       "11 Grange 2015 Magnum                     1099  14.5    3.62 6.70         \n",
       "12 Grange 2017                            1175  14.5    3.63 7.30         \n",
       "13 Grange 2010                            2250  14.5    3.61 7.00         \n",
       "14 Superblend Cabernet Shiraz 2018 Magnum 2250  14.5    3.57 6.90         \n",
       "15 Grange 2016                            3500  14.5    3.60 7.10         "
      ]
     },
     "metadata": {},
     "output_type": "display_data"
    }
   ],
   "source": [
    "options(repr.matrix.max.rows = 15)\n",
    "\n",
    "hottotrot_2018 <- c(\"14 Hands Hot to Trot Red Blend\", 9, 13.5, 3.77, 5.3)\n",
    "merlot <- c(\"Bogle Vineyards Merlot\", 11, 14.5, 3.61, 5.0)\n",
    "red_blend <- c(\"Bogle Vineyards Essential Red Blend\", 12, 14.5, 3.65, 5.6)\n",
    "zinfandel <- c(\"Bogle Vineyards Old Vine Zinfandel\", 12, 14.5, 3.66, 5.5)\n",
    "shiraz_2020 <- c(\"Bin 28 Shiraz 2020\", 50, 14.5, 3.59, 6.8)\n",
    "cs_shiraz_2019 <- c(\"Bin 389 Cabernet Sauvignon Shiraz 2019\", 100, 14.5, 3.59, 6.7)\n",
    "shiraz_2016 <- c(\"Magill Estate Shiraz 2016\", 150, 14.5, 3.68, 6.8)\n",
    "sh_shiraz_2019 <- c(\"St. Henri Shiraz 2019\", 165, 14.5, 3.62, 6.6)\n",
    "mendoza <- c(\"Bodega Norton 1895 Mendoza 2019\", 10, 13.4, 3.41, 5.32)\n",
    "monte_bello <- c(\"Ridge Vineyards Monte Bello 2017\", 479, 13.7, 3.48, 7.42)\n",
    "grange_2015 <- c(\"Grange 2015 Magnum\", 1099, 14.5, 3.62, 6.7)\n",
    "grange_2016 <- c(\"Grange 2017\", 1175, 14.5, 3.63, 7.3)\n",
    "grange_2017 <- c(\"Grange 2010\", 2250, 14.5, 3.61, 7.0)\n",
    "grange_2010 <- c(\"Superblend Cabernet Shiraz 2018 Magnum\", 2250, 14.5, 3.57, 6.9)\n",
    "shiraz_2018 <- c(\"Grange 2016\", 3500, 14.5, 3.60, 7.1)\n",
    "\n",
    "wine_tibble <- tibble(\n",
    "    name = character(),\n",
    "    price = double(),\n",
    "    acohol.content = double(),\n",
    "    pH = double(),\n",
    "    total.acidity = double())\n",
    "\n",
    "wine_tib <- rbind(\n",
    "    wine_tibble,\n",
    "    hottotrot_2018,\n",
    "    mendoza,\n",
    "    merlot,\n",
    "    red_blend,\n",
    "    zinfandel,\n",
    "    shiraz_2020,\n",
    "    cs_shiraz_2019,\n",
    "    shiraz_2016,\n",
    "    sh_shiraz_2019,\n",
    "    monte_bello,\n",
    "    grange_2015,\n",
    "    grange_2016,\n",
    "    grange_2017,\n",
    "    grange_2010,\n",
    "    shiraz_2018)\n",
    "\n",
    "colnames(wine_tib) <- c(\"name\", \"price\", \"alcohol\", \"pH\", \"total.acidity\")\n",
    "\n",
    "wine_tib <- wine_tib |>\n",
    "    mutate(price = as.double(price),\n",
    "           alcohol = as.double(alcohol),\n",
    "           pH = as.double(pH),\n",
    "           total.acidity = as.double(total.acidity))\n",
    "wine_tib\n",
    "\n",
    "#TABLE 7."
   ]
  },
  {
   "cell_type": "code",
   "execution_count": 15,
   "id": "4d1570c9-2b28-47d9-b8fc-55be4f287af3",
   "metadata": {},
   "outputs": [
    {
     "data": {
      "text/html": [
       "<table class=\"dataframe\">\n",
       "<caption>A tibble: 15 × 6</caption>\n",
       "<thead>\n",
       "\t<tr><th scope=col>.pred_class</th><th scope=col>name</th><th scope=col>price</th><th scope=col>alcohol</th><th scope=col>pH</th><th scope=col>total.acidity</th></tr>\n",
       "\t<tr><th scope=col>&lt;fct&gt;</th><th scope=col>&lt;chr&gt;</th><th scope=col>&lt;dbl&gt;</th><th scope=col>&lt;dbl&gt;</th><th scope=col>&lt;dbl&gt;</th><th scope=col>&lt;dbl&gt;</th></tr>\n",
       "</thead>\n",
       "<tbody>\n",
       "\t<tr><td>0</td><td>14 Hands Hot to Trot Red Blend        </td><td>   9</td><td>13.5</td><td>3.77</td><td>5.30</td></tr>\n",
       "\t<tr><td>0</td><td>Bodega Norton 1895 Mendoza 2019       </td><td>  10</td><td>13.4</td><td>3.41</td><td>5.32</td></tr>\n",
       "\t<tr><td>1</td><td>Bogle Vineyards Merlot                </td><td>  11</td><td>14.5</td><td>3.61</td><td>5.00</td></tr>\n",
       "\t<tr><td>1</td><td>Bogle Vineyards Essential Red Blend   </td><td>  12</td><td>14.5</td><td>3.65</td><td>5.60</td></tr>\n",
       "\t<tr><td>1</td><td>Bogle Vineyards Old Vine Zinfandel    </td><td>  12</td><td>14.5</td><td>3.66</td><td>5.50</td></tr>\n",
       "\t<tr><td>1</td><td>Bin 28 Shiraz 2020                    </td><td>  50</td><td>14.5</td><td>3.59</td><td>6.80</td></tr>\n",
       "\t<tr><td>1</td><td>Bin 389 Cabernet Sauvignon Shiraz 2019</td><td> 100</td><td>14.5</td><td>3.59</td><td>6.70</td></tr>\n",
       "\t<tr><td>1</td><td>Magill Estate Shiraz 2016             </td><td> 150</td><td>14.5</td><td>3.68</td><td>6.80</td></tr>\n",
       "\t<tr><td>1</td><td>St. Henri Shiraz 2019                 </td><td> 165</td><td>14.5</td><td>3.62</td><td>6.60</td></tr>\n",
       "\t<tr><td>0</td><td>Ridge Vineyards Monte Bello 2017      </td><td> 479</td><td>13.7</td><td>3.48</td><td>7.42</td></tr>\n",
       "\t<tr><td>1</td><td>Grange 2015 Magnum                    </td><td>1099</td><td>14.5</td><td>3.62</td><td>6.70</td></tr>\n",
       "\t<tr><td>1</td><td>Grange 2017                           </td><td>1175</td><td>14.5</td><td>3.63</td><td>7.30</td></tr>\n",
       "\t<tr><td>1</td><td>Grange 2010                           </td><td>2250</td><td>14.5</td><td>3.61</td><td>7.00</td></tr>\n",
       "\t<tr><td>1</td><td>Superblend Cabernet Shiraz 2018 Magnum</td><td>2250</td><td>14.5</td><td>3.57</td><td>6.90</td></tr>\n",
       "\t<tr><td>1</td><td>Grange 2016                           </td><td>3500</td><td>14.5</td><td>3.60</td><td>7.10</td></tr>\n",
       "</tbody>\n",
       "</table>\n"
      ],
      "text/latex": [
       "A tibble: 15 × 6\n",
       "\\begin{tabular}{llllll}\n",
       " .pred\\_class & name & price & alcohol & pH & total.acidity\\\\\n",
       " <fct> & <chr> & <dbl> & <dbl> & <dbl> & <dbl>\\\\\n",
       "\\hline\n",
       "\t 0 & 14 Hands Hot to Trot Red Blend         &    9 & 13.5 & 3.77 & 5.30\\\\\n",
       "\t 0 & Bodega Norton 1895 Mendoza 2019        &   10 & 13.4 & 3.41 & 5.32\\\\\n",
       "\t 1 & Bogle Vineyards Merlot                 &   11 & 14.5 & 3.61 & 5.00\\\\\n",
       "\t 1 & Bogle Vineyards Essential Red Blend    &   12 & 14.5 & 3.65 & 5.60\\\\\n",
       "\t 1 & Bogle Vineyards Old Vine Zinfandel     &   12 & 14.5 & 3.66 & 5.50\\\\\n",
       "\t 1 & Bin 28 Shiraz 2020                     &   50 & 14.5 & 3.59 & 6.80\\\\\n",
       "\t 1 & Bin 389 Cabernet Sauvignon Shiraz 2019 &  100 & 14.5 & 3.59 & 6.70\\\\\n",
       "\t 1 & Magill Estate Shiraz 2016              &  150 & 14.5 & 3.68 & 6.80\\\\\n",
       "\t 1 & St. Henri Shiraz 2019                  &  165 & 14.5 & 3.62 & 6.60\\\\\n",
       "\t 0 & Ridge Vineyards Monte Bello 2017       &  479 & 13.7 & 3.48 & 7.42\\\\\n",
       "\t 1 & Grange 2015 Magnum                     & 1099 & 14.5 & 3.62 & 6.70\\\\\n",
       "\t 1 & Grange 2017                            & 1175 & 14.5 & 3.63 & 7.30\\\\\n",
       "\t 1 & Grange 2010                            & 2250 & 14.5 & 3.61 & 7.00\\\\\n",
       "\t 1 & Superblend Cabernet Shiraz 2018 Magnum & 2250 & 14.5 & 3.57 & 6.90\\\\\n",
       "\t 1 & Grange 2016                            & 3500 & 14.5 & 3.60 & 7.10\\\\\n",
       "\\end{tabular}\n"
      ],
      "text/markdown": [
       "\n",
       "A tibble: 15 × 6\n",
       "\n",
       "| .pred_class &lt;fct&gt; | name &lt;chr&gt; | price &lt;dbl&gt; | alcohol &lt;dbl&gt; | pH &lt;dbl&gt; | total.acidity &lt;dbl&gt; |\n",
       "|---|---|---|---|---|---|\n",
       "| 0 | 14 Hands Hot to Trot Red Blend         |    9 | 13.5 | 3.77 | 5.30 |\n",
       "| 0 | Bodega Norton 1895 Mendoza 2019        |   10 | 13.4 | 3.41 | 5.32 |\n",
       "| 1 | Bogle Vineyards Merlot                 |   11 | 14.5 | 3.61 | 5.00 |\n",
       "| 1 | Bogle Vineyards Essential Red Blend    |   12 | 14.5 | 3.65 | 5.60 |\n",
       "| 1 | Bogle Vineyards Old Vine Zinfandel     |   12 | 14.5 | 3.66 | 5.50 |\n",
       "| 1 | Bin 28 Shiraz 2020                     |   50 | 14.5 | 3.59 | 6.80 |\n",
       "| 1 | Bin 389 Cabernet Sauvignon Shiraz 2019 |  100 | 14.5 | 3.59 | 6.70 |\n",
       "| 1 | Magill Estate Shiraz 2016              |  150 | 14.5 | 3.68 | 6.80 |\n",
       "| 1 | St. Henri Shiraz 2019                  |  165 | 14.5 | 3.62 | 6.60 |\n",
       "| 0 | Ridge Vineyards Monte Bello 2017       |  479 | 13.7 | 3.48 | 7.42 |\n",
       "| 1 | Grange 2015 Magnum                     | 1099 | 14.5 | 3.62 | 6.70 |\n",
       "| 1 | Grange 2017                            | 1175 | 14.5 | 3.63 | 7.30 |\n",
       "| 1 | Grange 2010                            | 2250 | 14.5 | 3.61 | 7.00 |\n",
       "| 1 | Superblend Cabernet Shiraz 2018 Magnum | 2250 | 14.5 | 3.57 | 6.90 |\n",
       "| 1 | Grange 2016                            | 3500 | 14.5 | 3.60 | 7.10 |\n",
       "\n"
      ],
      "text/plain": [
       "   .pred_class name                                   price alcohol pH  \n",
       "1  0           14 Hands Hot to Trot Red Blend            9  13.5    3.77\n",
       "2  0           Bodega Norton 1895 Mendoza 2019          10  13.4    3.41\n",
       "3  1           Bogle Vineyards Merlot                   11  14.5    3.61\n",
       "4  1           Bogle Vineyards Essential Red Blend      12  14.5    3.65\n",
       "5  1           Bogle Vineyards Old Vine Zinfandel       12  14.5    3.66\n",
       "6  1           Bin 28 Shiraz 2020                       50  14.5    3.59\n",
       "7  1           Bin 389 Cabernet Sauvignon Shiraz 2019  100  14.5    3.59\n",
       "8  1           Magill Estate Shiraz 2016               150  14.5    3.68\n",
       "9  1           St. Henri Shiraz 2019                   165  14.5    3.62\n",
       "10 0           Ridge Vineyards Monte Bello 2017        479  13.7    3.48\n",
       "11 1           Grange 2015 Magnum                     1099  14.5    3.62\n",
       "12 1           Grange 2017                            1175  14.5    3.63\n",
       "13 1           Grange 2010                            2250  14.5    3.61\n",
       "14 1           Superblend Cabernet Shiraz 2018 Magnum 2250  14.5    3.57\n",
       "15 1           Grange 2016                            3500  14.5    3.60\n",
       "   total.acidity\n",
       "1  5.30         \n",
       "2  5.32         \n",
       "3  5.00         \n",
       "4  5.60         \n",
       "5  5.50         \n",
       "6  6.80         \n",
       "7  6.70         \n",
       "8  6.80         \n",
       "9  6.60         \n",
       "10 7.42         \n",
       "11 6.70         \n",
       "12 7.30         \n",
       "13 7.00         \n",
       "14 6.90         \n",
       "15 7.10         "
      ]
     },
     "metadata": {},
     "output_type": "display_data"
    }
   ],
   "source": [
    "options(repr.matrix.max.rows = 15)\n",
    "wine_predictions <- predict(wine_fit, wine_tib) |>\n",
    "       bind_cols(wine_tib)\n",
    "wine_predictions\n",
    "\n",
    "# TABLE 8."
   ]
  },
  {
   "cell_type": "markdown",
   "id": "ee624a57-fbc5-44da-a22a-2cf4636de1e0",
   "metadata": {},
   "source": [
    "#### Discussion of Results"
   ]
  },
  {
   "cell_type": "markdown",
   "id": "089a58ae-3956-4593-9530-630c941d5259",
   "metadata": {},
   "source": [
    "Above, we find that the classifier predicted a majority of the wines to be good, only three being poor. When observing the parameters of these poor quality wines, we see that they have comparatively much lower alcohol content, relatively lower pH values, and high acidities. Because of the drastic difference between their alcohol content, we believe that this is the greatest parameter responsible for their quality. We also observe how the acidities of the wines climb with their price, increasing steadily from 5.00 g/L to 7.10 g/L, however, this seemingly has no effect on quality since some cheap wines with high acidity are classified as good quality.\n",
    "\n",
    "In observing the relationship between price and quality, the price of red wine is not correlated (necessarily) to its quality, according to our classifier. The parameters for cheap wines can be similar to those of expensive wines and still be graded high quality. However, as winemaking is complex, with different factors such as grape quality, age, and region, we suspect there are important variables not included in the data. With a different classifier that considers these, the predictions could very well change and show a different correlation.\n",
    "\n",
    "Although our analysis may not have a significant impact on the wine industry, we have demonstrated ways in which data collection can be used to identify patterns in wine varieties. Our report has demonstrated that given wines of the same variety (like Vinho Verde), it is possible to train a high accuracy quality classifier with a k-means algorithm which could prove to be a way to scientifically/objectively back the rubric for wine scoring, for example.\n",
    "\n",
    "Naturally, we expected that higher priced wines would correspond to higher qualities but it is possible that our classifier does not consider specific variables used by the wine industry. This leads to future questions about which variable in wine production is considered most important to quality, or whether there is any physicochemical correlation at all between price and quality (how arbitrarily are wines priced?)."
   ]
  },
  {
   "cell_type": "markdown",
   "id": "7371300b-a25a-40d5-8819-263e887bf301",
   "metadata": {},
   "source": [
    "#### Strengths\n",
    "\n",
    "The strengths of our classifier can be attributed to our manipulation of the data before making the final classification model. By changing what would have been a multiclass classifier into a binary classifier, our classification results were easy to interpret and more accurate than one would have been, had it accounted for 10 different classes. By standardizing and balancing the data, we ensured that the model considered all values equally and that the underrepresented class was not ignored. In order to avoid misfitting the data, we tuned our k values with cross-validation, ensuring that the final model used the number of neighbors that would yield the highest accuracy. Given our data wrangling, the model itself, not considering external data, is a strong classifier."
   ]
  },
  {
   "cell_type": "markdown",
   "id": "092f3099-6b33-417a-bb21-09234ba4a5bb",
   "metadata": {},
   "source": [
    "#### Limitations\n",
    "\n",
    "Given the inconsistent predictions, the classifier falls short in a number of ways. Firstly, limited online information of wine makeup meant that we could only use 3 predictors, when using more would have allowed higher accuracy in both the classifier and its external wine predictions. If we had access to a website with wines from a range of prices, and with their exact chemical composition, this would make our research question easier to answer.\n",
    "\n",
    "While we cannot say that using a Vinho Verde-specific classifier for other wines is inaccurate, since wine quality is assessed on universal physico-chemical properties, we must consider that this data is specifically Vinho Verde. Whereas, the wines we sourced from the internet are not. This was done to avoid using Vinho Verde wines that were already included in the data set. However, this indicates that the predicted qualities of these wines do not necessarily reflect their actual qualities. This could be shown by the inconsistencies in how the differently priced wines are classified; cheap (non-Vinho Verde) wines classified as good quality may not necessarily be good quality because they are a different variety, and this limitation is worsened by the low number of predictors available."
   ]
  },
  {
   "cell_type": "markdown",
   "id": "858833ba-c899-40a1-806b-4e3d99fd125a",
   "metadata": {},
   "source": [
    "#### References\n",
    "\n",
    "[1] P. Cortez, A. Cerdeira, F. Almeida, T. Matos and J. Reis. Modeling wine preferences by data mining from physicochemical properties. In Decision Support Systems, Elsevier, 47(4):547-553, 2009.\n"
   ]
  },
  {
   "cell_type": "markdown",
   "id": "010104ae-7c3a-4025-9e8c-deb807babe93",
   "metadata": {},
   "source": [
    "[2] Our Wines. All Wines | Penfolds Wines | Penfolds Wines. (n.d.). Retrieved April 15, 2023, from https://www.penfolds.com/en-ca/wines "
   ]
  },
  {
   "cell_type": "markdown",
   "id": "016c466e-be6b-4fb4-8b46-1dd6f5bae343",
   "metadata": {},
   "source": [
    "[3] Bogle Vineyards. Bogle. (n.d.). Retrieved April 15, 2023, from https://shop.boglewinery.com/bogle-c6.aspx "
   ]
  },
  {
   "cell_type": "markdown",
   "id": "a5911366-ce10-4199-b3f2-29f8bbae63d8",
   "metadata": {},
   "source": [
    "[4] Red wine. WeSpeakWine.com. (n.d.). Retrieved April 15, 2023, from https://www.wespeakwine.com/categories/Wine-Type/Red-Wine?sort=PriceDesc&amp;catID=3566 "
   ]
  }
 ],
 "metadata": {
  "jupytext": {
   "formats": "ipynb,R:light"
  },
  "kernelspec": {
   "display_name": "R",
   "language": "R",
   "name": "ir"
  },
  "language_info": {
   "codemirror_mode": "r",
   "file_extension": ".r",
   "mimetype": "text/x-r-source",
   "name": "R",
   "pygments_lexer": "r",
   "version": "4.1.1"
  },
  "toc-autonumbering": false,
  "toc-showcode": true,
  "toc-showmarkdowntxt": false,
  "toc-showtags": false
 },
 "nbformat": 4,
 "nbformat_minor": 5
}
